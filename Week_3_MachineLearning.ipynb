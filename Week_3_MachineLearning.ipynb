{
  "cells": [
    {
      "cell_type": "markdown",
      "metadata": {
        "id": "view-in-github",
        "colab_type": "text"
      },
      "source": [
        "<a href=\"https://colab.research.google.com/github/Stephy-Wong/Week3-ClassicML/blob/main/Week_3_MachineLearning.ipynb\" target=\"_parent\"><img src=\"https://colab.research.google.com/assets/colab-badge.svg\" alt=\"Open In Colab\"/></a>"
      ]
    },
    {
      "cell_type": "code",
      "source": [
        "from google.colab import drive\n",
        "drive.mount('/content/drive')"
      ],
      "metadata": {
        "colab": {
          "base_uri": "https://localhost:8080/"
        },
        "id": "ywb8NifF9XN3",
        "outputId": "02574e3b-b411-4a94-d624-1abe3bcb3e45"
      },
      "execution_count": null,
      "outputs": [
        {
          "output_type": "stream",
          "name": "stdout",
          "text": [
            "Drive already mounted at /content/drive; to attempt to forcibly remount, call drive.mount(\"/content/drive\", force_remount=True).\n"
          ]
        }
      ]
    },
    {
      "cell_type": "markdown",
      "metadata": {
        "id": "q5CvOjjrL9gw"
      },
      "source": [
        "<center><h1> Introduction to Audio Classification with Machine Learning Models </h1></center>\n",
        "\n",
        "\n",
        "\n",
        "### Purpose\n",
        "This notebook serves as an introduction to working with audio data for classification problems; it is meant as a learning resource rather than a demonstration of the state-of-the-art. The techniques mentioned in this notebook apply not only to classification problems, but to regression problems and problems dealing with other types of input data as well. I provide an introduction to a few key machine learning models and the logic in choosing their hyperparameters. These objectives are framed by the task of recognizing emotion from snippets of speech audio.\n",
        "\n",
        " Training data should be used strictly for training a model, validation data strictly for tuning a model, and test data strictly to evaluate a model once it is tuned - a model should never be tuned to perform better on test data.\n",
        "\n",
        "\n",
        "\n",
        "\n",
        "\n",
        "Classic machine learning models such as Support Vector Machines (SVM), k Nearest Neighbours (kNN), and Random Forests have distinct advantages to deep neural networks in many tasks."
      ]
    },
    {
      "cell_type": "markdown",
      "metadata": {
        "id": "QQsTfGREL9g1"
      },
      "source": [
        "<!--TABLE OF CONTENTS-->\n",
        "\n",
        "\n",
        "# Table of Contents\n",
        "  - [Intro: Speech Emotion Recognition on the RAVDESS dataset](#Intro:-Speech-Emotion-Recognition-on-the-RAVDESS-dataset)\n",
        "  - [Machine Learning Process Overview](#Machine-Learning-Process-Overview)\n",
        "  - [Feature Extraction](#Feature-Extraction)\n",
        "    - [Load the Dataset and Compute Features](#Load-the-Dataset-and-Compute-Features)\n",
        "    - [Feature Scaling](#Feature-Scaling)\n",
        "  - [Classical Machine Learning Models](#Classical-Machine-Learning-Models)\n",
        "    - [Training: The 80/20 Split and Validation](#Training:-The-80/20-Split-and-Validation)\n",
        "    - [Comparing Models](#Comparing-Models)\n",
        "    - [The Support Vector Machine Classifier](#The-Support-Vector-Machine-Classifier)\n",
        "    - [k Nearest Neighbours](#k-Nearest-Neighbours)\n",
        "    - [Random Forests](#Random-Forests)\n",
        "\n"
      ]
    },
    {
      "cell_type": "markdown",
      "metadata": {
        "pycharm": {
          "name": "#%% md\n"
        },
        "id": "hZUcbr4PL9g2"
      },
      "source": [
        "## Intro: Speech Emotion Recognition on the RAVDESS dataset\n",
        "In this notebook we explore the most common machine learning models, specifically those available off the shelf in scikit-learn.\n",
        "\n",
        "I'm going to use the RAVDESS dataset (Ryerson Audio-Visual Database of Emotional Speech and Song dataset), created by Steven Livingstone and Frank Russo of Ryerson University. <br>\n",
        "[Details of the RAVDESS dataset](https://smartlaboratory.org/ravdess/) <br>\n",
        "[Download the dataset used in this notebook](https://zenodo.org/record/1188976) <br> Scroll half-way down the page and find \"Audio_Speech_Actors_01-24\"<br>\n",
        "\n",
        "We're going to use the audio-only speech portion of the RAVDESS dataset, ~200MB.\n",
        "Audio is sourced from 24 actors (12 male, 12 female) repeating two sentences with\n",
        "a variety of emotions and intensity. We get 1440 speech files (24 actors * 60 recordings per actor). Each audio sample has been rated  by a human 10 times for emotional quality.\n",
        "\n",
        "## Machine Learning Process Overview\n",
        "1. Feature Engineering: Choose and define the properties which our model will use to evaluate the audio files. <br>\n",
        "2. Feature Extraction: Compute the features for each audio file and build a feature matrix representing all audio files. <br>\n",
        "3. Model exploration: Test candidate models that make sense for the properies of the dataset\n",
        "4. Training the MLP Classifier model: Choose and optimize the properties of our model on validation data - hyperparameters and architechture.  <br>\n",
        "5. Evaluate our model's performance: Evaluate our model's accuracy on validation data and score it against test data which it has never seen in training.<br>\n",
        "6. Explore options for improving our model: Is our dataset the right size? Is our model too complex or too simple? <br>\n"
      ]
    },
    {
      "cell_type": "code",
      "source": [
        "#importing the required libraries\n",
        "\n",
        "import matplotlib.pyplot as plt\n",
        "import pandas as pd\n",
        "import numpy as np\n",
        "import librosa.display\n",
        "import soundfile\n",
        "import os\n",
        "# matplotlib complains about the behaviour of librosa.display, so we'll ignore those warnings:\n",
        "import warnings; warnings.filterwarnings('ignore')"
      ],
      "metadata": {
        "id": "b2IL0uT19_3A"
      },
      "execution_count": 80,
      "outputs": []
    },
    {
      "cell_type": "markdown",
      "metadata": {
        "pycharm": {
          "name": "#%% md\n"
        },
        "id": "eu8VPhDmL9hC"
      },
      "source": [
        "## Feature Extraction\n",
        "We're going to take full advantage of librosa, a Python library enabling audio analysis and feature extraction.\n",
        "Librosa abstracts away all the math and most of the details of mel spectrorgams, chromagrams, and MFCC.\n",
        "Although closely related, we're going to take the Mel Spectrogram, MFCC, and chromagrams of each audio file as separate features to try\n",
        "and have bit more discriminatory power between samples. <br>\n",
        "\n",
        "Let's build our feature extraction functions to get a chromagram, a mel spectorgram, and MFC coefficients for each of our audio files. Because the chromagram, mel spectrogram and MFCCs are calculated on audio frames produced by STFT, we're going to get a matrix back from each function, so we'll take the mean of those matrices to produce a single feature array for each feature and each audio sample, i.e. 3 feature arrays per audio sample.\n",
        "\n",
        "**Chromagram**: Will produce 12 features; One for each of 12 pitch classes\n",
        "\n",
        "**Mel Spectrogram**: Will produce 128 features; We've defined the number of mel frequency bands at n_mels=128\n",
        "\n",
        "**MFCC**: Will produce 40 MFCCs; I've set the number of coefficients to return at n_mfcc=40 which I found to work well"
      ]
    },
    {
      "cell_type": "code",
      "execution_count": 81,
      "metadata": {
        "pycharm": {
          "name": "#%%\n"
        },
        "id": "qTe93WYTL9hD"
      },
      "outputs": [],
      "source": [
        "\n",
        "\n",
        "def feature_chromagram(waveform, sample_rate):\n",
        "    # STFT computed here explicitly; mel spectrogram and MFCC functions do this under the hood\n",
        "    stft_spectrogram=np.abs(librosa.stft(waveform))\n",
        "    # Produce the chromagram for all STFT frames and get the mean of each column of the resulting matrix to create a feature array\n",
        "    chromagram=np.mean(librosa.feature.chroma_stft(S=stft_spectrogram, sr=sample_rate).T,axis=0)\n",
        "    return chromagram\n",
        "\n",
        "def feature_melspectrogram(waveform, sample_rate):\n",
        "    # Produce the mel spectrogram for all STFT frames and get the mean of each column of the resulting matrix to create a feature array\n",
        "    # Using 8khz as upper frequency bound should be enough for most speech classification tasks\n",
        "    melspectrogram=np.mean(librosa.feature.melspectrogram(y=waveform, sr=sample_rate, n_mels=128, fmax=8000).T,axis=0)\n",
        "    return melspectrogram\n",
        "\n",
        "def feature_mfcc(waveform, sample_rate):\n",
        "    # Compute the MFCCs for all STFT frames and get the mean of each column of the resulting matrix to create a feature array\n",
        "    # 40 filterbanks = 40 coefficients\n",
        "    mfc_coefficients=np.mean(librosa.feature.mfcc(y=waveform, sr=sample_rate, n_mfcc=40).T, axis=0)\n",
        "    return mfc_coefficients"
      ]
    },
    {
      "cell_type": "markdown",
      "metadata": {
        "pycharm": {
          "name": "#%% md\n"
        },
        "id": "xjFXIfC2L9hD"
      },
      "source": [
        "We're going to wrap our feature extraction functions so we only have to load each audio file once. After extracting our 3 audio features as NumPy arrays representing a time series, we're going to\n",
        "stack them horizontally to create a single feature array."
      ]
    },
    {
      "cell_type": "code",
      "execution_count": 82,
      "metadata": {
        "pycharm": {
          "name": "#%%\n"
        },
        "id": "xPMw9ijJL9hE"
      },
      "outputs": [],
      "source": [
        "def get_features(file):\n",
        "    # load an individual soundfile\n",
        "     with soundfile.SoundFile(file) as audio:\n",
        "        waveform = audio.read(dtype=\"float32\")\n",
        "        sample_rate = audio.samplerate\n",
        "        # compute features of soundfile\n",
        "        chromagram = feature_chromagram(waveform, sample_rate)\n",
        "        melspectrogram = feature_melspectrogram(waveform, sample_rate)\n",
        "        mfc_coefficients = feature_mfcc(waveform, sample_rate)\n",
        "\n",
        "        feature_matrix=np.array([])\n",
        "\n",
        "        # Check the shape of chromagram\n",
        "        if chromagram.ndim > 1 and chromagram.shape[1] > 1:\n",
        "            #print(f\"Returning zero vector for chromagram size: {file} (shape: {chromagram.shape})\")\n",
        "            chromagram = np.zeros((12,))  # Return a zero vector of size (12,)\n",
        "\n",
        "        # Check the shape of mel spectrogram\n",
        "        if melspectrogram.ndim > 1 and melspectrogram.shape[1] > 1:\n",
        "            #print(f\"Returning zero vector for mel spectrogram size: {file} (shape: {melspectrogram.shape})\")\n",
        "            melspectrogram = np.zeros((128,))  # Return a zero vector of size (128,)\n",
        "\n",
        "        # Check the shape of MFCC coefficients\n",
        "        if mfc_coefficients.ndim > 1 and mfc_coefficients.shape[1] > 1:\n",
        "            #print(f\"Returning zero vector for MFCC size: {file} (shape: {mfc_coefficients.shape})\")\n",
        "            mfc_coefficients = np.zeros((40,))  # Return a zero vector of size (40,)\n",
        "\n",
        "        # use np.hstack to stack our feature arrays horizontally to create a feature matrix\n",
        "        feature_matrix = np.hstack((chromagram, melspectrogram, mfc_coefficients))\n",
        "\n",
        "        return feature_matrix"
      ]
    },
    {
      "cell_type": "markdown",
      "metadata": {
        "pycharm": {
          "name": "#%% md\n"
        },
        "id": "c-C6g6psL9hE"
      },
      "source": [
        "### Load the Dataset and Compute Features\n",
        "We have to understand the labelling of the RAVDESS dataset to find the ground truth emotion for each sample.\n",
        "Each file is labelled with 7 numbers delimited by a \"-\".\n",
        "Most of the numbers describe metadata about the audio samples such as their format (video and/or audio),\n",
        "whether the audio is a song or statement, which of two statements is being read and by which actor.\n",
        "\n",
        "The third and fourth numbers pertain to the emotional quality of each sample. The third number is in the range of 1-8 with each number representing an emotion.\n",
        "The fourth number is either 1 or 2, representing normal (1) or strong (2) emotional intensity.\n",
        "\n",
        "We're going to define a dictionary based on the third number (emotion) and assign an emotion to each number as specified by the RAVDESS dataset:"
      ]
    },
    {
      "cell_type": "code",
      "execution_count": 83,
      "metadata": {
        "pycharm": {
          "name": "#%%\n"
        },
        "id": "z-Pu_fB7L9hF"
      },
      "outputs": [],
      "source": [
        "#Emotions in the RAVDESS dataset\n",
        "emotions_dict ={\n",
        "  '01':'neutral',\n",
        "  '02':'calm',\n",
        "  '03':'happy',\n",
        "  '04':'sad',\n",
        "  '05':'angry',\n",
        "  '06':'fearful',\n",
        "  '07':'disgust',\n",
        "  '08':'surprised'\n",
        "}"
      ]
    },
    {
      "cell_type": "markdown",
      "metadata": {
        "pycharm": {
          "name": "#%% md\n"
        },
        "id": "pTlsUOwXL9hF"
      },
      "source": [
        "Finally, let's load our entire dataset and compute the features of each audio file:"
      ]
    },
    {
      "cell_type": "code",
      "execution_count": 5,
      "metadata": {
        "pycharm": {
          "name": "#%%\n"
        },
        "id": "mAh2AYMpL9hF"
      },
      "outputs": [],
      "source": [
        "import os, glob\n",
        "\n",
        "def load_data():\n",
        "    X,y=[],[]\n",
        "    count = 0\n",
        "    for file in glob.glob(\"Desktop/IAT 360/Week 2/Datasets/Audio Data/audio_speech_actors_01-24/Actor_*/*.wav\"):\n",
        "        file_name=os.path.basename(file)\n",
        "        emotion=emotions_dict[file_name.split(\"-\")[2]]\n",
        "        features = get_features(file)\n",
        "        X.append(features)\n",
        "        y.append(emotion)\n",
        "        count += 1\n",
        "        # '\\r' + end='' results in printing over same line\n",
        "        print('\\r' + f' Processed {count}/{1440} audio samples',end=' ')\n",
        "    # Return arrays to plug into sklearn's cross-validation algorithms\n",
        "    return np.array(X), np.array(y)"
      ]
    },
    {
      "cell_type": "code",
      "source": [
        "import os, glob\n",
        "\n",
        "def load_my_data():\n",
        "    X,y=[],[]\n",
        "    count = 0\n",
        "    for file in glob.glob(\"Desktop/IAT 360/Week 2/Datasets/New Audio Data/audio_speech_actors_01-26/Actor_26/*.wav\"):\n",
        "        file_name=os.path.basename(file)\n",
        "        emotion=emotions_dict[file_name.split(\"-\")[2]]\n",
        "        features = get_features(file)\n",
        "        X.append(features)\n",
        "        y.append(emotion)\n",
        "        count += 1\n",
        "        # '\\r' + end='' results in printing over same line\n",
        "        print('\\r' + f' Processed {count}/{16} audio samples',end=' ')\n",
        "    # Return arrays to plug into sklearn's cross-validation algorithms\n",
        "    return np.array(X), np.array(y)"
      ],
      "metadata": {
        "id": "qhDlaet7Q_pD"
      },
      "execution_count": 94,
      "outputs": []
    },
    {
      "cell_type": "markdown",
      "metadata": {
        "pycharm": {
          "name": "#%% md\n"
        },
        "id": "3Cf8q4K5L9hG"
      },
      "source": [
        "Compute the feature matrix and read the emotion labels for the entire dataset.\n",
        "Note that our regressor (independent/explanatory variable), usually denoted X, is named 'features', and our regressand (dependent variable), usually denoted y, is named 'emotions'."
      ]
    },
    {
      "cell_type": "code",
      "execution_count": 6,
      "metadata": {
        "pycharm": {
          "name": "#%%\n"
        },
        "id": "XeKE591aL9hG",
        "outputId": "e8114441-d0a9-42e2-d90f-2c80ac257465",
        "colab": {
          "base_uri": "https://localhost:8080/"
        }
      },
      "outputs": [
        {
          "output_type": "stream",
          "name": "stdout",
          "text": [
            " Processed 1440/1440 audio samples "
          ]
        }
      ],
      "source": [
        "features, emotions = load_data()"
      ]
    },
    {
      "cell_type": "code",
      "source": [
        "my_features, my_emotions = load_my_data()"
      ],
      "metadata": {
        "colab": {
          "base_uri": "https://localhost:8080/"
        },
        "id": "9fsIykFaS3F4",
        "outputId": "3a331b9d-1e27-41a0-ff46-534ed142fdfe"
      },
      "execution_count": 101,
      "outputs": [
        {
          "output_type": "stream",
          "name": "stdout",
          "text": [
            " Processed 16/16 audio samples "
          ]
        }
      ]
    },
    {
      "cell_type": "markdown",
      "metadata": {
        "pycharm": {
          "name": "#%% md\n"
        },
        "id": "RVUa7RAuL9hG"
      },
      "source": [
        "Let's see what the features we extracted look like, **also for saving both the features matrix as well as emotions array, we need to convert them to pandas dataframe.**"
      ]
    },
    {
      "cell_type": "code",
      "execution_count": 7,
      "metadata": {
        "pycharm": {
          "name": "#%%\n"
        },
        "id": "mzxX583yL9hG",
        "outputId": "aa4ea553-5f65-4bd6-e94c-281cee9e4ac9",
        "colab": {
          "base_uri": "https://localhost:8080/",
          "height": 497
        }
      },
      "outputs": [
        {
          "output_type": "stream",
          "name": "stdout",
          "text": [
            "\n",
            "Audio samples represented: 1440\n",
            "Numerical features extracted per sample: 180\n"
          ]
        },
        {
          "output_type": "execute_result",
          "data": {
            "text/plain": [
              "           0         1         2         3         4         5         6    \\\n",
              "0     0.552245  0.504338  0.512779  0.550540  0.572176  0.615567  0.603708   \n",
              "1     0.550732  0.508484  0.466809  0.438485  0.428218  0.445352  0.444528   \n",
              "2     0.672768  0.601451  0.548317  0.477805  0.453192  0.516665  0.570100   \n",
              "3     0.602309  0.605448  0.558788  0.529441  0.546189  0.568049  0.566027   \n",
              "4     0.556555  0.503434  0.473118  0.479222  0.495470  0.522490  0.532196   \n",
              "...        ...       ...       ...       ...       ...       ...       ...   \n",
              "1435  0.664177  0.633587  0.590743  0.601933  0.623832  0.643299  0.671203   \n",
              "1436  0.697806  0.658317  0.614802  0.639169  0.717383  0.743908  0.781170   \n",
              "1437  0.628023  0.596605  0.643935  0.655228  0.659819  0.725635  0.808151   \n",
              "1438  0.630163  0.652205  0.637307  0.684746  0.764457  0.795282  0.819001   \n",
              "1439  0.619704  0.639446  0.650099  0.693850  0.721269  0.756799  0.789992   \n",
              "\n",
              "           7         8         9    ...       170       171       172  \\\n",
              "0     0.573230  0.593454  0.603834  ... -3.543537 -0.912676 -1.747537   \n",
              "1     0.444478  0.500419  0.551672  ...  2.333152  3.619089  0.793563   \n",
              "2     0.599750  0.647746  0.692148  ...  0.283253  0.218117 -1.928165   \n",
              "3     0.523464  0.526789  0.552809  ...  2.176564  3.904047  0.980935   \n",
              "4     0.540681  0.545616  0.512521  ... -1.306030  0.050261 -0.992539   \n",
              "...        ...       ...       ...  ...       ...       ...       ...   \n",
              "1435  0.668196  0.683204  0.658824  ...  5.234397  5.000974  4.120271   \n",
              "1436  0.749796  0.722322  0.715267  ... -1.211285  0.060299 -1.140080   \n",
              "1437  0.814369  0.771093  0.722508  ... -1.125915  0.213711 -1.729091   \n",
              "1438  0.802949  0.774911  0.734926  ... -2.221260 -0.709731 -1.652230   \n",
              "1439  0.768492  0.766670  0.698196  ... -1.135965 -0.554937 -1.294901   \n",
              "\n",
              "           173       174       175       176       177       178       179  \n",
              "0    -2.299447 -0.025205  2.449470  2.116510  3.361054  2.086241  0.376519  \n",
              "1     0.743431  0.660723 -0.254914 -0.967536  0.378563 -0.338074 -0.463241  \n",
              "2    -2.486516 -0.530147  0.354905  0.463640  0.581006 -2.091462 -1.899596  \n",
              "3     1.160923 -0.694902 -0.969963 -0.234802  0.941701  0.695973  0.430566  \n",
              "4    -0.213367 -0.351018 -1.462262 -2.454565 -1.044801 -0.298479  0.118208  \n",
              "...        ...       ...       ...       ...       ...       ...       ...  \n",
              "1435  3.053777  2.119890  2.965642  2.442994  2.014850  3.167833  4.008449  \n",
              "1436  0.446977  0.614657  0.430341  0.332445 -0.197219  0.797524  2.606972  \n",
              "1437  0.776150  0.564957  2.507703  0.997837  0.844502 -0.108339  2.037053  \n",
              "1438 -1.931097 -1.620286  1.130693  0.274002  2.252403  2.537369  3.869970  \n",
              "1439 -0.990536 -0.618531  0.289875 -0.120279  0.519724  1.181626  2.576108  \n",
              "\n",
              "[1440 rows x 180 columns]"
            ],
            "text/html": [
              "<div>\n",
              "<style scoped>\n",
              "    .dataframe tbody tr th:only-of-type {\n",
              "        vertical-align: middle;\n",
              "    }\n",
              "\n",
              "    .dataframe tbody tr th {\n",
              "        vertical-align: top;\n",
              "    }\n",
              "\n",
              "    .dataframe thead th {\n",
              "        text-align: right;\n",
              "    }\n",
              "</style>\n",
              "<table border=\"1\" class=\"dataframe\">\n",
              "  <thead>\n",
              "    <tr style=\"text-align: right;\">\n",
              "      <th></th>\n",
              "      <th>0</th>\n",
              "      <th>1</th>\n",
              "      <th>2</th>\n",
              "      <th>3</th>\n",
              "      <th>4</th>\n",
              "      <th>5</th>\n",
              "      <th>6</th>\n",
              "      <th>7</th>\n",
              "      <th>8</th>\n",
              "      <th>9</th>\n",
              "      <th>...</th>\n",
              "      <th>170</th>\n",
              "      <th>171</th>\n",
              "      <th>172</th>\n",
              "      <th>173</th>\n",
              "      <th>174</th>\n",
              "      <th>175</th>\n",
              "      <th>176</th>\n",
              "      <th>177</th>\n",
              "      <th>178</th>\n",
              "      <th>179</th>\n",
              "    </tr>\n",
              "  </thead>\n",
              "  <tbody>\n",
              "    <tr>\n",
              "      <th>0</th>\n",
              "      <td>0.552245</td>\n",
              "      <td>0.504338</td>\n",
              "      <td>0.512779</td>\n",
              "      <td>0.550540</td>\n",
              "      <td>0.572176</td>\n",
              "      <td>0.615567</td>\n",
              "      <td>0.603708</td>\n",
              "      <td>0.573230</td>\n",
              "      <td>0.593454</td>\n",
              "      <td>0.603834</td>\n",
              "      <td>...</td>\n",
              "      <td>-3.543537</td>\n",
              "      <td>-0.912676</td>\n",
              "      <td>-1.747537</td>\n",
              "      <td>-2.299447</td>\n",
              "      <td>-0.025205</td>\n",
              "      <td>2.449470</td>\n",
              "      <td>2.116510</td>\n",
              "      <td>3.361054</td>\n",
              "      <td>2.086241</td>\n",
              "      <td>0.376519</td>\n",
              "    </tr>\n",
              "    <tr>\n",
              "      <th>1</th>\n",
              "      <td>0.550732</td>\n",
              "      <td>0.508484</td>\n",
              "      <td>0.466809</td>\n",
              "      <td>0.438485</td>\n",
              "      <td>0.428218</td>\n",
              "      <td>0.445352</td>\n",
              "      <td>0.444528</td>\n",
              "      <td>0.444478</td>\n",
              "      <td>0.500419</td>\n",
              "      <td>0.551672</td>\n",
              "      <td>...</td>\n",
              "      <td>2.333152</td>\n",
              "      <td>3.619089</td>\n",
              "      <td>0.793563</td>\n",
              "      <td>0.743431</td>\n",
              "      <td>0.660723</td>\n",
              "      <td>-0.254914</td>\n",
              "      <td>-0.967536</td>\n",
              "      <td>0.378563</td>\n",
              "      <td>-0.338074</td>\n",
              "      <td>-0.463241</td>\n",
              "    </tr>\n",
              "    <tr>\n",
              "      <th>2</th>\n",
              "      <td>0.672768</td>\n",
              "      <td>0.601451</td>\n",
              "      <td>0.548317</td>\n",
              "      <td>0.477805</td>\n",
              "      <td>0.453192</td>\n",
              "      <td>0.516665</td>\n",
              "      <td>0.570100</td>\n",
              "      <td>0.599750</td>\n",
              "      <td>0.647746</td>\n",
              "      <td>0.692148</td>\n",
              "      <td>...</td>\n",
              "      <td>0.283253</td>\n",
              "      <td>0.218117</td>\n",
              "      <td>-1.928165</td>\n",
              "      <td>-2.486516</td>\n",
              "      <td>-0.530147</td>\n",
              "      <td>0.354905</td>\n",
              "      <td>0.463640</td>\n",
              "      <td>0.581006</td>\n",
              "      <td>-2.091462</td>\n",
              "      <td>-1.899596</td>\n",
              "    </tr>\n",
              "    <tr>\n",
              "      <th>3</th>\n",
              "      <td>0.602309</td>\n",
              "      <td>0.605448</td>\n",
              "      <td>0.558788</td>\n",
              "      <td>0.529441</td>\n",
              "      <td>0.546189</td>\n",
              "      <td>0.568049</td>\n",
              "      <td>0.566027</td>\n",
              "      <td>0.523464</td>\n",
              "      <td>0.526789</td>\n",
              "      <td>0.552809</td>\n",
              "      <td>...</td>\n",
              "      <td>2.176564</td>\n",
              "      <td>3.904047</td>\n",
              "      <td>0.980935</td>\n",
              "      <td>1.160923</td>\n",
              "      <td>-0.694902</td>\n",
              "      <td>-0.969963</td>\n",
              "      <td>-0.234802</td>\n",
              "      <td>0.941701</td>\n",
              "      <td>0.695973</td>\n",
              "      <td>0.430566</td>\n",
              "    </tr>\n",
              "    <tr>\n",
              "      <th>4</th>\n",
              "      <td>0.556555</td>\n",
              "      <td>0.503434</td>\n",
              "      <td>0.473118</td>\n",
              "      <td>0.479222</td>\n",
              "      <td>0.495470</td>\n",
              "      <td>0.522490</td>\n",
              "      <td>0.532196</td>\n",
              "      <td>0.540681</td>\n",
              "      <td>0.545616</td>\n",
              "      <td>0.512521</td>\n",
              "      <td>...</td>\n",
              "      <td>-1.306030</td>\n",
              "      <td>0.050261</td>\n",
              "      <td>-0.992539</td>\n",
              "      <td>-0.213367</td>\n",
              "      <td>-0.351018</td>\n",
              "      <td>-1.462262</td>\n",
              "      <td>-2.454565</td>\n",
              "      <td>-1.044801</td>\n",
              "      <td>-0.298479</td>\n",
              "      <td>0.118208</td>\n",
              "    </tr>\n",
              "    <tr>\n",
              "      <th>...</th>\n",
              "      <td>...</td>\n",
              "      <td>...</td>\n",
              "      <td>...</td>\n",
              "      <td>...</td>\n",
              "      <td>...</td>\n",
              "      <td>...</td>\n",
              "      <td>...</td>\n",
              "      <td>...</td>\n",
              "      <td>...</td>\n",
              "      <td>...</td>\n",
              "      <td>...</td>\n",
              "      <td>...</td>\n",
              "      <td>...</td>\n",
              "      <td>...</td>\n",
              "      <td>...</td>\n",
              "      <td>...</td>\n",
              "      <td>...</td>\n",
              "      <td>...</td>\n",
              "      <td>...</td>\n",
              "      <td>...</td>\n",
              "      <td>...</td>\n",
              "    </tr>\n",
              "    <tr>\n",
              "      <th>1435</th>\n",
              "      <td>0.664177</td>\n",
              "      <td>0.633587</td>\n",
              "      <td>0.590743</td>\n",
              "      <td>0.601933</td>\n",
              "      <td>0.623832</td>\n",
              "      <td>0.643299</td>\n",
              "      <td>0.671203</td>\n",
              "      <td>0.668196</td>\n",
              "      <td>0.683204</td>\n",
              "      <td>0.658824</td>\n",
              "      <td>...</td>\n",
              "      <td>5.234397</td>\n",
              "      <td>5.000974</td>\n",
              "      <td>4.120271</td>\n",
              "      <td>3.053777</td>\n",
              "      <td>2.119890</td>\n",
              "      <td>2.965642</td>\n",
              "      <td>2.442994</td>\n",
              "      <td>2.014850</td>\n",
              "      <td>3.167833</td>\n",
              "      <td>4.008449</td>\n",
              "    </tr>\n",
              "    <tr>\n",
              "      <th>1436</th>\n",
              "      <td>0.697806</td>\n",
              "      <td>0.658317</td>\n",
              "      <td>0.614802</td>\n",
              "      <td>0.639169</td>\n",
              "      <td>0.717383</td>\n",
              "      <td>0.743908</td>\n",
              "      <td>0.781170</td>\n",
              "      <td>0.749796</td>\n",
              "      <td>0.722322</td>\n",
              "      <td>0.715267</td>\n",
              "      <td>...</td>\n",
              "      <td>-1.211285</td>\n",
              "      <td>0.060299</td>\n",
              "      <td>-1.140080</td>\n",
              "      <td>0.446977</td>\n",
              "      <td>0.614657</td>\n",
              "      <td>0.430341</td>\n",
              "      <td>0.332445</td>\n",
              "      <td>-0.197219</td>\n",
              "      <td>0.797524</td>\n",
              "      <td>2.606972</td>\n",
              "    </tr>\n",
              "    <tr>\n",
              "      <th>1437</th>\n",
              "      <td>0.628023</td>\n",
              "      <td>0.596605</td>\n",
              "      <td>0.643935</td>\n",
              "      <td>0.655228</td>\n",
              "      <td>0.659819</td>\n",
              "      <td>0.725635</td>\n",
              "      <td>0.808151</td>\n",
              "      <td>0.814369</td>\n",
              "      <td>0.771093</td>\n",
              "      <td>0.722508</td>\n",
              "      <td>...</td>\n",
              "      <td>-1.125915</td>\n",
              "      <td>0.213711</td>\n",
              "      <td>-1.729091</td>\n",
              "      <td>0.776150</td>\n",
              "      <td>0.564957</td>\n",
              "      <td>2.507703</td>\n",
              "      <td>0.997837</td>\n",
              "      <td>0.844502</td>\n",
              "      <td>-0.108339</td>\n",
              "      <td>2.037053</td>\n",
              "    </tr>\n",
              "    <tr>\n",
              "      <th>1438</th>\n",
              "      <td>0.630163</td>\n",
              "      <td>0.652205</td>\n",
              "      <td>0.637307</td>\n",
              "      <td>0.684746</td>\n",
              "      <td>0.764457</td>\n",
              "      <td>0.795282</td>\n",
              "      <td>0.819001</td>\n",
              "      <td>0.802949</td>\n",
              "      <td>0.774911</td>\n",
              "      <td>0.734926</td>\n",
              "      <td>...</td>\n",
              "      <td>-2.221260</td>\n",
              "      <td>-0.709731</td>\n",
              "      <td>-1.652230</td>\n",
              "      <td>-1.931097</td>\n",
              "      <td>-1.620286</td>\n",
              "      <td>1.130693</td>\n",
              "      <td>0.274002</td>\n",
              "      <td>2.252403</td>\n",
              "      <td>2.537369</td>\n",
              "      <td>3.869970</td>\n",
              "    </tr>\n",
              "    <tr>\n",
              "      <th>1439</th>\n",
              "      <td>0.619704</td>\n",
              "      <td>0.639446</td>\n",
              "      <td>0.650099</td>\n",
              "      <td>0.693850</td>\n",
              "      <td>0.721269</td>\n",
              "      <td>0.756799</td>\n",
              "      <td>0.789992</td>\n",
              "      <td>0.768492</td>\n",
              "      <td>0.766670</td>\n",
              "      <td>0.698196</td>\n",
              "      <td>...</td>\n",
              "      <td>-1.135965</td>\n",
              "      <td>-0.554937</td>\n",
              "      <td>-1.294901</td>\n",
              "      <td>-0.990536</td>\n",
              "      <td>-0.618531</td>\n",
              "      <td>0.289875</td>\n",
              "      <td>-0.120279</td>\n",
              "      <td>0.519724</td>\n",
              "      <td>1.181626</td>\n",
              "      <td>2.576108</td>\n",
              "    </tr>\n",
              "  </tbody>\n",
              "</table>\n",
              "<p>1440 rows × 180 columns</p>\n",
              "</div>"
            ]
          },
          "metadata": {},
          "execution_count": 7
        }
      ],
      "source": [
        "print(f'\\nAudio samples represented: {features.shape[0]}')\n",
        "print(f'Numerical features extracted per sample: {features.shape[1]}')\n",
        "features_df = pd.DataFrame(features) # make it pretty for display\n",
        "\n",
        "\n",
        "#making dataframe for emotions as well\n",
        "emotions_df = pd.DataFrame(emotions) # make it pretty for display\n",
        "\n",
        "features_df"
      ]
    },
    {
      "cell_type": "code",
      "source": [
        "print(f'\\nAudio samples represented: {my_features.shape[0]}')\n",
        "print(f'Numerical features extracted per sample: {my_features.shape[1]}')\n",
        "my_features_df = pd.DataFrame(my_features) # make it pretty for display\n",
        "\n",
        "\n",
        "#making dataframe for emotions as well\n",
        "my_emotions_df = pd.DataFrame(my_emotions) # make it pretty for display\n",
        "\n",
        "my_features_df"
      ],
      "metadata": {
        "colab": {
          "base_uri": "https://localhost:8080/",
          "height": 654
        },
        "id": "Hyq4AEFdTwt9",
        "outputId": "b28636bd-6e37-4458-db0f-e824531c5de6"
      },
      "execution_count": 102,
      "outputs": [
        {
          "output_type": "stream",
          "name": "stdout",
          "text": [
            "\n",
            "Audio samples represented: 16\n",
            "Numerical features extracted per sample: 180\n"
          ]
        },
        {
          "output_type": "execute_result",
          "data": {
            "text/plain": [
              "         0         1         2         3         4         5         6    \\\n",
              "0   0.782179  0.754238  0.741676  0.666429  0.600371  0.622774  0.625216   \n",
              "1   0.651021  0.675952  0.684793  0.703482  0.663944  0.615302  0.741056   \n",
              "2   0.637018  0.556543  0.623774  0.744353  0.693835  0.545147  0.462962   \n",
              "3   0.728718  0.699890  0.695106  0.638965  0.619190  0.580676  0.584562   \n",
              "4   0.829897  0.768713  0.692143  0.647314  0.612686  0.591696  0.526710   \n",
              "5   0.895357  0.795124  0.688276  0.659457  0.666221  0.612511  0.584769   \n",
              "6   0.824344  0.770482  0.715608  0.639781  0.573617  0.589551  0.662992   \n",
              "7   0.660975  0.668264  0.610601  0.587119  0.604980  0.677857  0.704583   \n",
              "8   0.853986  0.781968  0.712013  0.691754  0.706470  0.666012  0.586806   \n",
              "9   0.788091  0.784055  0.716778  0.721189  0.690753  0.707143  0.638670   \n",
              "10  0.737136  0.693478  0.719115  0.743287  0.768099  0.722855  0.616568   \n",
              "11  0.787941  0.744724  0.709006  0.694923  0.722094  0.694353  0.645254   \n",
              "12  0.783087  0.773753  0.698045  0.563756  0.523086  0.591245  0.647745   \n",
              "13  0.570969  0.581199  0.642667  0.660106  0.604085  0.628955  0.659226   \n",
              "14  0.790050  0.776025  0.713219  0.667695  0.608577  0.567672  0.514090   \n",
              "15  0.652165  0.559086  0.546638  0.574478  0.616737  0.533323  0.476515   \n",
              "\n",
              "         7         8         9    ...       170       171       172       173  \\\n",
              "0   0.653666  0.656255  0.612870  ...  5.969228  5.682514  4.251714  3.387964   \n",
              "1   0.756061  0.717822  0.774559  ... -1.011408  3.456728  0.260819 -2.874355   \n",
              "2   0.485418  0.539763  0.697996  ...  0.206391  2.400558  0.485854  1.788706   \n",
              "3   0.549038  0.580974  0.654132  ...  4.554376  5.850909  2.365579  3.706890   \n",
              "4   0.519788  0.579912  0.596545  ...  4.232822  9.750684  2.543357  5.678115   \n",
              "5   0.606850  0.546492  0.547545  ...  5.082759  8.326416  9.698526  6.661276   \n",
              "6   0.635139  0.554080  0.625236  ...  5.627674  5.829427  8.001931  4.842699   \n",
              "7   0.611196  0.537153  0.537903  ...  1.157974  3.896332 -0.559636 -0.647495   \n",
              "8   0.591852  0.643764  0.676049  ...  4.763855  5.084639  1.793111  5.484877   \n",
              "9   0.590668  0.577397  0.584373  ...  2.415597  8.355166  4.393602  5.461759   \n",
              "10  0.521507  0.549437  0.602466  ... -0.026417  2.557028 -0.331692  1.489646   \n",
              "11  0.658169  0.671299  0.679729  ...  3.828977  2.938797  3.263515  1.300219   \n",
              "12  0.607193  0.532881  0.598666  ...  7.983437  8.183472  8.020016  8.085502   \n",
              "13  0.618241  0.628592  0.701221  ...  1.137988  5.440999  0.572863 -4.489181   \n",
              "14  0.481388  0.516937  0.612176  ...  5.880969  6.357725  0.659674  3.901149   \n",
              "15  0.505016  0.550306  0.691501  ...  6.514145  8.454734  5.243965  2.869270   \n",
              "\n",
              "         174       175       176       177       178       179  \n",
              "0   1.473648  3.906959 -1.517973  3.183940 -2.007786 -0.328439  \n",
              "1  -2.479680  1.902968 -4.251283 -2.231320 -3.425577 -3.876598  \n",
              "2   0.393422  0.476400 -4.061108 -4.213883 -3.190904 -2.102752  \n",
              "3  -1.429358  4.644539 -1.113072  1.315190 -1.325771 -1.838008  \n",
              "4   3.139075  3.269448  2.342860 -0.365670 -2.449152  1.611243  \n",
              "5   4.743649  3.755114 -1.930286  3.769613 -2.414726 -0.807490  \n",
              "6   0.885339  4.844555 -2.090157  1.761558 -1.656001 -0.863024  \n",
              "7  -6.146065 -1.786585 -1.560511  1.226529 -4.975946 -2.711569  \n",
              "8   0.636110  1.754863  1.822707  1.278996 -0.365856  1.132790  \n",
              "9   4.742015  4.308589  2.790064  0.786073 -0.860765 -0.992778  \n",
              "10 -3.195511 -0.631421 -4.451575 -0.746120 -4.838350 -0.061710  \n",
              "11  0.697092  3.413046 -0.563613  3.999778 -2.689159  0.927987  \n",
              "12  1.467026  8.987414 -1.812683  1.028043 -2.481594 -0.638542  \n",
              "13 -2.748445  2.224864 -4.350343 -0.928828 -4.066463 -5.013021  \n",
              "14 -0.152793  1.434263  1.598422 -0.427473 -3.408716 -1.003328  \n",
              "15  1.514815  1.367812 -2.846896  4.181930 -3.295598 -0.659696  \n",
              "\n",
              "[16 rows x 180 columns]"
            ],
            "text/html": [
              "<div>\n",
              "<style scoped>\n",
              "    .dataframe tbody tr th:only-of-type {\n",
              "        vertical-align: middle;\n",
              "    }\n",
              "\n",
              "    .dataframe tbody tr th {\n",
              "        vertical-align: top;\n",
              "    }\n",
              "\n",
              "    .dataframe thead th {\n",
              "        text-align: right;\n",
              "    }\n",
              "</style>\n",
              "<table border=\"1\" class=\"dataframe\">\n",
              "  <thead>\n",
              "    <tr style=\"text-align: right;\">\n",
              "      <th></th>\n",
              "      <th>0</th>\n",
              "      <th>1</th>\n",
              "      <th>2</th>\n",
              "      <th>3</th>\n",
              "      <th>4</th>\n",
              "      <th>5</th>\n",
              "      <th>6</th>\n",
              "      <th>7</th>\n",
              "      <th>8</th>\n",
              "      <th>9</th>\n",
              "      <th>...</th>\n",
              "      <th>170</th>\n",
              "      <th>171</th>\n",
              "      <th>172</th>\n",
              "      <th>173</th>\n",
              "      <th>174</th>\n",
              "      <th>175</th>\n",
              "      <th>176</th>\n",
              "      <th>177</th>\n",
              "      <th>178</th>\n",
              "      <th>179</th>\n",
              "    </tr>\n",
              "  </thead>\n",
              "  <tbody>\n",
              "    <tr>\n",
              "      <th>0</th>\n",
              "      <td>0.782179</td>\n",
              "      <td>0.754238</td>\n",
              "      <td>0.741676</td>\n",
              "      <td>0.666429</td>\n",
              "      <td>0.600371</td>\n",
              "      <td>0.622774</td>\n",
              "      <td>0.625216</td>\n",
              "      <td>0.653666</td>\n",
              "      <td>0.656255</td>\n",
              "      <td>0.612870</td>\n",
              "      <td>...</td>\n",
              "      <td>5.969228</td>\n",
              "      <td>5.682514</td>\n",
              "      <td>4.251714</td>\n",
              "      <td>3.387964</td>\n",
              "      <td>1.473648</td>\n",
              "      <td>3.906959</td>\n",
              "      <td>-1.517973</td>\n",
              "      <td>3.183940</td>\n",
              "      <td>-2.007786</td>\n",
              "      <td>-0.328439</td>\n",
              "    </tr>\n",
              "    <tr>\n",
              "      <th>1</th>\n",
              "      <td>0.651021</td>\n",
              "      <td>0.675952</td>\n",
              "      <td>0.684793</td>\n",
              "      <td>0.703482</td>\n",
              "      <td>0.663944</td>\n",
              "      <td>0.615302</td>\n",
              "      <td>0.741056</td>\n",
              "      <td>0.756061</td>\n",
              "      <td>0.717822</td>\n",
              "      <td>0.774559</td>\n",
              "      <td>...</td>\n",
              "      <td>-1.011408</td>\n",
              "      <td>3.456728</td>\n",
              "      <td>0.260819</td>\n",
              "      <td>-2.874355</td>\n",
              "      <td>-2.479680</td>\n",
              "      <td>1.902968</td>\n",
              "      <td>-4.251283</td>\n",
              "      <td>-2.231320</td>\n",
              "      <td>-3.425577</td>\n",
              "      <td>-3.876598</td>\n",
              "    </tr>\n",
              "    <tr>\n",
              "      <th>2</th>\n",
              "      <td>0.637018</td>\n",
              "      <td>0.556543</td>\n",
              "      <td>0.623774</td>\n",
              "      <td>0.744353</td>\n",
              "      <td>0.693835</td>\n",
              "      <td>0.545147</td>\n",
              "      <td>0.462962</td>\n",
              "      <td>0.485418</td>\n",
              "      <td>0.539763</td>\n",
              "      <td>0.697996</td>\n",
              "      <td>...</td>\n",
              "      <td>0.206391</td>\n",
              "      <td>2.400558</td>\n",
              "      <td>0.485854</td>\n",
              "      <td>1.788706</td>\n",
              "      <td>0.393422</td>\n",
              "      <td>0.476400</td>\n",
              "      <td>-4.061108</td>\n",
              "      <td>-4.213883</td>\n",
              "      <td>-3.190904</td>\n",
              "      <td>-2.102752</td>\n",
              "    </tr>\n",
              "    <tr>\n",
              "      <th>3</th>\n",
              "      <td>0.728718</td>\n",
              "      <td>0.699890</td>\n",
              "      <td>0.695106</td>\n",
              "      <td>0.638965</td>\n",
              "      <td>0.619190</td>\n",
              "      <td>0.580676</td>\n",
              "      <td>0.584562</td>\n",
              "      <td>0.549038</td>\n",
              "      <td>0.580974</td>\n",
              "      <td>0.654132</td>\n",
              "      <td>...</td>\n",
              "      <td>4.554376</td>\n",
              "      <td>5.850909</td>\n",
              "      <td>2.365579</td>\n",
              "      <td>3.706890</td>\n",
              "      <td>-1.429358</td>\n",
              "      <td>4.644539</td>\n",
              "      <td>-1.113072</td>\n",
              "      <td>1.315190</td>\n",
              "      <td>-1.325771</td>\n",
              "      <td>-1.838008</td>\n",
              "    </tr>\n",
              "    <tr>\n",
              "      <th>4</th>\n",
              "      <td>0.829897</td>\n",
              "      <td>0.768713</td>\n",
              "      <td>0.692143</td>\n",
              "      <td>0.647314</td>\n",
              "      <td>0.612686</td>\n",
              "      <td>0.591696</td>\n",
              "      <td>0.526710</td>\n",
              "      <td>0.519788</td>\n",
              "      <td>0.579912</td>\n",
              "      <td>0.596545</td>\n",
              "      <td>...</td>\n",
              "      <td>4.232822</td>\n",
              "      <td>9.750684</td>\n",
              "      <td>2.543357</td>\n",
              "      <td>5.678115</td>\n",
              "      <td>3.139075</td>\n",
              "      <td>3.269448</td>\n",
              "      <td>2.342860</td>\n",
              "      <td>-0.365670</td>\n",
              "      <td>-2.449152</td>\n",
              "      <td>1.611243</td>\n",
              "    </tr>\n",
              "    <tr>\n",
              "      <th>5</th>\n",
              "      <td>0.895357</td>\n",
              "      <td>0.795124</td>\n",
              "      <td>0.688276</td>\n",
              "      <td>0.659457</td>\n",
              "      <td>0.666221</td>\n",
              "      <td>0.612511</td>\n",
              "      <td>0.584769</td>\n",
              "      <td>0.606850</td>\n",
              "      <td>0.546492</td>\n",
              "      <td>0.547545</td>\n",
              "      <td>...</td>\n",
              "      <td>5.082759</td>\n",
              "      <td>8.326416</td>\n",
              "      <td>9.698526</td>\n",
              "      <td>6.661276</td>\n",
              "      <td>4.743649</td>\n",
              "      <td>3.755114</td>\n",
              "      <td>-1.930286</td>\n",
              "      <td>3.769613</td>\n",
              "      <td>-2.414726</td>\n",
              "      <td>-0.807490</td>\n",
              "    </tr>\n",
              "    <tr>\n",
              "      <th>6</th>\n",
              "      <td>0.824344</td>\n",
              "      <td>0.770482</td>\n",
              "      <td>0.715608</td>\n",
              "      <td>0.639781</td>\n",
              "      <td>0.573617</td>\n",
              "      <td>0.589551</td>\n",
              "      <td>0.662992</td>\n",
              "      <td>0.635139</td>\n",
              "      <td>0.554080</td>\n",
              "      <td>0.625236</td>\n",
              "      <td>...</td>\n",
              "      <td>5.627674</td>\n",
              "      <td>5.829427</td>\n",
              "      <td>8.001931</td>\n",
              "      <td>4.842699</td>\n",
              "      <td>0.885339</td>\n",
              "      <td>4.844555</td>\n",
              "      <td>-2.090157</td>\n",
              "      <td>1.761558</td>\n",
              "      <td>-1.656001</td>\n",
              "      <td>-0.863024</td>\n",
              "    </tr>\n",
              "    <tr>\n",
              "      <th>7</th>\n",
              "      <td>0.660975</td>\n",
              "      <td>0.668264</td>\n",
              "      <td>0.610601</td>\n",
              "      <td>0.587119</td>\n",
              "      <td>0.604980</td>\n",
              "      <td>0.677857</td>\n",
              "      <td>0.704583</td>\n",
              "      <td>0.611196</td>\n",
              "      <td>0.537153</td>\n",
              "      <td>0.537903</td>\n",
              "      <td>...</td>\n",
              "      <td>1.157974</td>\n",
              "      <td>3.896332</td>\n",
              "      <td>-0.559636</td>\n",
              "      <td>-0.647495</td>\n",
              "      <td>-6.146065</td>\n",
              "      <td>-1.786585</td>\n",
              "      <td>-1.560511</td>\n",
              "      <td>1.226529</td>\n",
              "      <td>-4.975946</td>\n",
              "      <td>-2.711569</td>\n",
              "    </tr>\n",
              "    <tr>\n",
              "      <th>8</th>\n",
              "      <td>0.853986</td>\n",
              "      <td>0.781968</td>\n",
              "      <td>0.712013</td>\n",
              "      <td>0.691754</td>\n",
              "      <td>0.706470</td>\n",
              "      <td>0.666012</td>\n",
              "      <td>0.586806</td>\n",
              "      <td>0.591852</td>\n",
              "      <td>0.643764</td>\n",
              "      <td>0.676049</td>\n",
              "      <td>...</td>\n",
              "      <td>4.763855</td>\n",
              "      <td>5.084639</td>\n",
              "      <td>1.793111</td>\n",
              "      <td>5.484877</td>\n",
              "      <td>0.636110</td>\n",
              "      <td>1.754863</td>\n",
              "      <td>1.822707</td>\n",
              "      <td>1.278996</td>\n",
              "      <td>-0.365856</td>\n",
              "      <td>1.132790</td>\n",
              "    </tr>\n",
              "    <tr>\n",
              "      <th>9</th>\n",
              "      <td>0.788091</td>\n",
              "      <td>0.784055</td>\n",
              "      <td>0.716778</td>\n",
              "      <td>0.721189</td>\n",
              "      <td>0.690753</td>\n",
              "      <td>0.707143</td>\n",
              "      <td>0.638670</td>\n",
              "      <td>0.590668</td>\n",
              "      <td>0.577397</td>\n",
              "      <td>0.584373</td>\n",
              "      <td>...</td>\n",
              "      <td>2.415597</td>\n",
              "      <td>8.355166</td>\n",
              "      <td>4.393602</td>\n",
              "      <td>5.461759</td>\n",
              "      <td>4.742015</td>\n",
              "      <td>4.308589</td>\n",
              "      <td>2.790064</td>\n",
              "      <td>0.786073</td>\n",
              "      <td>-0.860765</td>\n",
              "      <td>-0.992778</td>\n",
              "    </tr>\n",
              "    <tr>\n",
              "      <th>10</th>\n",
              "      <td>0.737136</td>\n",
              "      <td>0.693478</td>\n",
              "      <td>0.719115</td>\n",
              "      <td>0.743287</td>\n",
              "      <td>0.768099</td>\n",
              "      <td>0.722855</td>\n",
              "      <td>0.616568</td>\n",
              "      <td>0.521507</td>\n",
              "      <td>0.549437</td>\n",
              "      <td>0.602466</td>\n",
              "      <td>...</td>\n",
              "      <td>-0.026417</td>\n",
              "      <td>2.557028</td>\n",
              "      <td>-0.331692</td>\n",
              "      <td>1.489646</td>\n",
              "      <td>-3.195511</td>\n",
              "      <td>-0.631421</td>\n",
              "      <td>-4.451575</td>\n",
              "      <td>-0.746120</td>\n",
              "      <td>-4.838350</td>\n",
              "      <td>-0.061710</td>\n",
              "    </tr>\n",
              "    <tr>\n",
              "      <th>11</th>\n",
              "      <td>0.787941</td>\n",
              "      <td>0.744724</td>\n",
              "      <td>0.709006</td>\n",
              "      <td>0.694923</td>\n",
              "      <td>0.722094</td>\n",
              "      <td>0.694353</td>\n",
              "      <td>0.645254</td>\n",
              "      <td>0.658169</td>\n",
              "      <td>0.671299</td>\n",
              "      <td>0.679729</td>\n",
              "      <td>...</td>\n",
              "      <td>3.828977</td>\n",
              "      <td>2.938797</td>\n",
              "      <td>3.263515</td>\n",
              "      <td>1.300219</td>\n",
              "      <td>0.697092</td>\n",
              "      <td>3.413046</td>\n",
              "      <td>-0.563613</td>\n",
              "      <td>3.999778</td>\n",
              "      <td>-2.689159</td>\n",
              "      <td>0.927987</td>\n",
              "    </tr>\n",
              "    <tr>\n",
              "      <th>12</th>\n",
              "      <td>0.783087</td>\n",
              "      <td>0.773753</td>\n",
              "      <td>0.698045</td>\n",
              "      <td>0.563756</td>\n",
              "      <td>0.523086</td>\n",
              "      <td>0.591245</td>\n",
              "      <td>0.647745</td>\n",
              "      <td>0.607193</td>\n",
              "      <td>0.532881</td>\n",
              "      <td>0.598666</td>\n",
              "      <td>...</td>\n",
              "      <td>7.983437</td>\n",
              "      <td>8.183472</td>\n",
              "      <td>8.020016</td>\n",
              "      <td>8.085502</td>\n",
              "      <td>1.467026</td>\n",
              "      <td>8.987414</td>\n",
              "      <td>-1.812683</td>\n",
              "      <td>1.028043</td>\n",
              "      <td>-2.481594</td>\n",
              "      <td>-0.638542</td>\n",
              "    </tr>\n",
              "    <tr>\n",
              "      <th>13</th>\n",
              "      <td>0.570969</td>\n",
              "      <td>0.581199</td>\n",
              "      <td>0.642667</td>\n",
              "      <td>0.660106</td>\n",
              "      <td>0.604085</td>\n",
              "      <td>0.628955</td>\n",
              "      <td>0.659226</td>\n",
              "      <td>0.618241</td>\n",
              "      <td>0.628592</td>\n",
              "      <td>0.701221</td>\n",
              "      <td>...</td>\n",
              "      <td>1.137988</td>\n",
              "      <td>5.440999</td>\n",
              "      <td>0.572863</td>\n",
              "      <td>-4.489181</td>\n",
              "      <td>-2.748445</td>\n",
              "      <td>2.224864</td>\n",
              "      <td>-4.350343</td>\n",
              "      <td>-0.928828</td>\n",
              "      <td>-4.066463</td>\n",
              "      <td>-5.013021</td>\n",
              "    </tr>\n",
              "    <tr>\n",
              "      <th>14</th>\n",
              "      <td>0.790050</td>\n",
              "      <td>0.776025</td>\n",
              "      <td>0.713219</td>\n",
              "      <td>0.667695</td>\n",
              "      <td>0.608577</td>\n",
              "      <td>0.567672</td>\n",
              "      <td>0.514090</td>\n",
              "      <td>0.481388</td>\n",
              "      <td>0.516937</td>\n",
              "      <td>0.612176</td>\n",
              "      <td>...</td>\n",
              "      <td>5.880969</td>\n",
              "      <td>6.357725</td>\n",
              "      <td>0.659674</td>\n",
              "      <td>3.901149</td>\n",
              "      <td>-0.152793</td>\n",
              "      <td>1.434263</td>\n",
              "      <td>1.598422</td>\n",
              "      <td>-0.427473</td>\n",
              "      <td>-3.408716</td>\n",
              "      <td>-1.003328</td>\n",
              "    </tr>\n",
              "    <tr>\n",
              "      <th>15</th>\n",
              "      <td>0.652165</td>\n",
              "      <td>0.559086</td>\n",
              "      <td>0.546638</td>\n",
              "      <td>0.574478</td>\n",
              "      <td>0.616737</td>\n",
              "      <td>0.533323</td>\n",
              "      <td>0.476515</td>\n",
              "      <td>0.505016</td>\n",
              "      <td>0.550306</td>\n",
              "      <td>0.691501</td>\n",
              "      <td>...</td>\n",
              "      <td>6.514145</td>\n",
              "      <td>8.454734</td>\n",
              "      <td>5.243965</td>\n",
              "      <td>2.869270</td>\n",
              "      <td>1.514815</td>\n",
              "      <td>1.367812</td>\n",
              "      <td>-2.846896</td>\n",
              "      <td>4.181930</td>\n",
              "      <td>-3.295598</td>\n",
              "      <td>-0.659696</td>\n",
              "    </tr>\n",
              "  </tbody>\n",
              "</table>\n",
              "<p>16 rows × 180 columns</p>\n",
              "</div>"
            ]
          },
          "metadata": {},
          "execution_count": 102
        }
      ]
    },
    {
      "cell_type": "markdown",
      "metadata": {
        "pycharm": {
          "name": "#%% md\n"
        },
        "id": "Tq083zLEL9hH"
      },
      "source": [
        "We have a matrix of dim 1435 x 180. Looks good - 1435 audio samples, one per row, with a series of\n",
        "180 numerical features for each sample.\n",
        "\n",
        "**Each of the 1435 feature arrays has 180 features composed of 12 chromagram pitch classes + 128 mel spectrogram bands + 40 MFC coefficients.**"
      ]
    },
    {
      "cell_type": "markdown",
      "source": [
        "Now we will save our features matrix and emotions array in excel file we dont have to compute them everytime we run the notebook, we can just load them from the excel file whenever required. Make sure to change the path to according to your drive."
      ],
      "metadata": {
        "id": "VF2SggHTDqbQ"
      }
    },
    {
      "cell_type": "code",
      "source": [
        "features_df.to_csv('featuresRavdess.csv')\n",
        "emotions_df.to_csv('emotionsRavdess.csv')"
      ],
      "metadata": {
        "id": "G-ECsjf9FrX6"
      },
      "execution_count": 9,
      "outputs": []
    },
    {
      "cell_type": "code",
      "source": [
        "my_features_df.to_csv('myFeaturesRavdess.csv')\n",
        "my_emotions_df.to_csv('myEmotionsRavdess.csv')"
      ],
      "metadata": {
        "id": "NQFOPFtJWXuk"
      },
      "execution_count": 103,
      "outputs": []
    },
    {
      "cell_type": "markdown",
      "source": [
        "## Load pre-saved Dataset"
      ],
      "metadata": {
        "id": "VpE5m-5aEyoB"
      }
    },
    {
      "cell_type": "markdown",
      "source": [
        "Once saved you only need to load them later by running the cell below, and **skip every cell above** except for the one in which we import libraries."
      ],
      "metadata": {
        "id": "hHPB7dCqEotR"
      }
    },
    {
      "cell_type": "code",
      "source": [
        "features=pd.read_csv('featuresRavdess.csv',index_col=0)\n",
        "emotions=pd.read_csv('emotionsRavdess.csv',index_col=0)"
      ],
      "metadata": {
        "id": "-8nlJCESEn56"
      },
      "execution_count": 10,
      "outputs": []
    },
    {
      "cell_type": "code",
      "source": [
        "my_features=pd.read_csv('myFeaturesRavdess.csv',index_col=0)\n",
        "my_emotions=pd.read_csv('myEmotionsRavdess.csv',index_col=0)"
      ],
      "metadata": {
        "id": "wV9JbP4NWb2Y"
      },
      "execution_count": 104,
      "outputs": []
    },
    {
      "cell_type": "markdown",
      "source": [
        "let's see if they have been loaded correctly!"
      ],
      "metadata": {
        "id": "4x2dXjybD1NM"
      }
    },
    {
      "cell_type": "code",
      "source": [
        "features.head()"
      ],
      "metadata": {
        "id": "B5Xo1SVMD0qR",
        "outputId": "06624d74-422c-415f-f0d8-1bdd95d64968",
        "colab": {
          "base_uri": "https://localhost:8080/",
          "height": 256
        }
      },
      "execution_count": 13,
      "outputs": [
        {
          "output_type": "execute_result",
          "data": {
            "text/plain": [
              "          0         1         2         3         4         5         6  \\\n",
              "0  0.552245  0.504338  0.512779  0.550540  0.572176  0.615567  0.603708   \n",
              "1  0.550732  0.508484  0.466809  0.438485  0.428218  0.445352  0.444528   \n",
              "2  0.672768  0.601451  0.548317  0.477805  0.453192  0.516665  0.570100   \n",
              "3  0.602309  0.605448  0.558788  0.529441  0.546189  0.568049  0.566027   \n",
              "4  0.556555  0.503434  0.473118  0.479222  0.495470  0.522490  0.532196   \n",
              "\n",
              "          7         8         9  ...       170       171       172       173  \\\n",
              "0  0.573230  0.593454  0.603834  ... -3.543537 -0.912676 -1.747537 -2.299447   \n",
              "1  0.444478  0.500419  0.551672  ...  2.333152  3.619089  0.793563  0.743431   \n",
              "2  0.599750  0.647746  0.692148  ...  0.283253  0.218117 -1.928165 -2.486516   \n",
              "3  0.523464  0.526789  0.552809  ...  2.176564  3.904047  0.980935  1.160923   \n",
              "4  0.540681  0.545616  0.512521  ... -1.306030  0.050261 -0.992539 -0.213367   \n",
              "\n",
              "        174       175       176       177       178       179  \n",
              "0 -0.025205  2.449470  2.116510  3.361054  2.086241  0.376519  \n",
              "1  0.660723 -0.254914 -0.967536  0.378563 -0.338074 -0.463241  \n",
              "2 -0.530147  0.354905  0.463640  0.581006 -2.091462 -1.899596  \n",
              "3 -0.694902 -0.969963 -0.234802  0.941701  0.695973  0.430566  \n",
              "4 -0.351018 -1.462262 -2.454565 -1.044801 -0.298479  0.118208  \n",
              "\n",
              "[5 rows x 180 columns]"
            ],
            "text/html": [
              "<div>\n",
              "<style scoped>\n",
              "    .dataframe tbody tr th:only-of-type {\n",
              "        vertical-align: middle;\n",
              "    }\n",
              "\n",
              "    .dataframe tbody tr th {\n",
              "        vertical-align: top;\n",
              "    }\n",
              "\n",
              "    .dataframe thead th {\n",
              "        text-align: right;\n",
              "    }\n",
              "</style>\n",
              "<table border=\"1\" class=\"dataframe\">\n",
              "  <thead>\n",
              "    <tr style=\"text-align: right;\">\n",
              "      <th></th>\n",
              "      <th>0</th>\n",
              "      <th>1</th>\n",
              "      <th>2</th>\n",
              "      <th>3</th>\n",
              "      <th>4</th>\n",
              "      <th>5</th>\n",
              "      <th>6</th>\n",
              "      <th>7</th>\n",
              "      <th>8</th>\n",
              "      <th>9</th>\n",
              "      <th>...</th>\n",
              "      <th>170</th>\n",
              "      <th>171</th>\n",
              "      <th>172</th>\n",
              "      <th>173</th>\n",
              "      <th>174</th>\n",
              "      <th>175</th>\n",
              "      <th>176</th>\n",
              "      <th>177</th>\n",
              "      <th>178</th>\n",
              "      <th>179</th>\n",
              "    </tr>\n",
              "  </thead>\n",
              "  <tbody>\n",
              "    <tr>\n",
              "      <th>0</th>\n",
              "      <td>0.552245</td>\n",
              "      <td>0.504338</td>\n",
              "      <td>0.512779</td>\n",
              "      <td>0.550540</td>\n",
              "      <td>0.572176</td>\n",
              "      <td>0.615567</td>\n",
              "      <td>0.603708</td>\n",
              "      <td>0.573230</td>\n",
              "      <td>0.593454</td>\n",
              "      <td>0.603834</td>\n",
              "      <td>...</td>\n",
              "      <td>-3.543537</td>\n",
              "      <td>-0.912676</td>\n",
              "      <td>-1.747537</td>\n",
              "      <td>-2.299447</td>\n",
              "      <td>-0.025205</td>\n",
              "      <td>2.449470</td>\n",
              "      <td>2.116510</td>\n",
              "      <td>3.361054</td>\n",
              "      <td>2.086241</td>\n",
              "      <td>0.376519</td>\n",
              "    </tr>\n",
              "    <tr>\n",
              "      <th>1</th>\n",
              "      <td>0.550732</td>\n",
              "      <td>0.508484</td>\n",
              "      <td>0.466809</td>\n",
              "      <td>0.438485</td>\n",
              "      <td>0.428218</td>\n",
              "      <td>0.445352</td>\n",
              "      <td>0.444528</td>\n",
              "      <td>0.444478</td>\n",
              "      <td>0.500419</td>\n",
              "      <td>0.551672</td>\n",
              "      <td>...</td>\n",
              "      <td>2.333152</td>\n",
              "      <td>3.619089</td>\n",
              "      <td>0.793563</td>\n",
              "      <td>0.743431</td>\n",
              "      <td>0.660723</td>\n",
              "      <td>-0.254914</td>\n",
              "      <td>-0.967536</td>\n",
              "      <td>0.378563</td>\n",
              "      <td>-0.338074</td>\n",
              "      <td>-0.463241</td>\n",
              "    </tr>\n",
              "    <tr>\n",
              "      <th>2</th>\n",
              "      <td>0.672768</td>\n",
              "      <td>0.601451</td>\n",
              "      <td>0.548317</td>\n",
              "      <td>0.477805</td>\n",
              "      <td>0.453192</td>\n",
              "      <td>0.516665</td>\n",
              "      <td>0.570100</td>\n",
              "      <td>0.599750</td>\n",
              "      <td>0.647746</td>\n",
              "      <td>0.692148</td>\n",
              "      <td>...</td>\n",
              "      <td>0.283253</td>\n",
              "      <td>0.218117</td>\n",
              "      <td>-1.928165</td>\n",
              "      <td>-2.486516</td>\n",
              "      <td>-0.530147</td>\n",
              "      <td>0.354905</td>\n",
              "      <td>0.463640</td>\n",
              "      <td>0.581006</td>\n",
              "      <td>-2.091462</td>\n",
              "      <td>-1.899596</td>\n",
              "    </tr>\n",
              "    <tr>\n",
              "      <th>3</th>\n",
              "      <td>0.602309</td>\n",
              "      <td>0.605448</td>\n",
              "      <td>0.558788</td>\n",
              "      <td>0.529441</td>\n",
              "      <td>0.546189</td>\n",
              "      <td>0.568049</td>\n",
              "      <td>0.566027</td>\n",
              "      <td>0.523464</td>\n",
              "      <td>0.526789</td>\n",
              "      <td>0.552809</td>\n",
              "      <td>...</td>\n",
              "      <td>2.176564</td>\n",
              "      <td>3.904047</td>\n",
              "      <td>0.980935</td>\n",
              "      <td>1.160923</td>\n",
              "      <td>-0.694902</td>\n",
              "      <td>-0.969963</td>\n",
              "      <td>-0.234802</td>\n",
              "      <td>0.941701</td>\n",
              "      <td>0.695973</td>\n",
              "      <td>0.430566</td>\n",
              "    </tr>\n",
              "    <tr>\n",
              "      <th>4</th>\n",
              "      <td>0.556555</td>\n",
              "      <td>0.503434</td>\n",
              "      <td>0.473118</td>\n",
              "      <td>0.479222</td>\n",
              "      <td>0.495470</td>\n",
              "      <td>0.522490</td>\n",
              "      <td>0.532196</td>\n",
              "      <td>0.540681</td>\n",
              "      <td>0.545616</td>\n",
              "      <td>0.512521</td>\n",
              "      <td>...</td>\n",
              "      <td>-1.306030</td>\n",
              "      <td>0.050261</td>\n",
              "      <td>-0.992539</td>\n",
              "      <td>-0.213367</td>\n",
              "      <td>-0.351018</td>\n",
              "      <td>-1.462262</td>\n",
              "      <td>-2.454565</td>\n",
              "      <td>-1.044801</td>\n",
              "      <td>-0.298479</td>\n",
              "      <td>0.118208</td>\n",
              "    </tr>\n",
              "  </tbody>\n",
              "</table>\n",
              "<p>5 rows × 180 columns</p>\n",
              "</div>"
            ]
          },
          "metadata": {},
          "execution_count": 13
        }
      ]
    },
    {
      "cell_type": "code",
      "source": [
        "my_features.head()"
      ],
      "metadata": {
        "colab": {
          "base_uri": "https://localhost:8080/",
          "height": 256
        },
        "id": "PgLM0e0BXbY7",
        "outputId": "90b8d51a-b48a-40d8-c3aa-b1f5d6991536"
      },
      "execution_count": 105,
      "outputs": [
        {
          "output_type": "execute_result",
          "data": {
            "text/plain": [
              "          0         1         2         3         4         5         6  \\\n",
              "0  0.782179  0.754238  0.741676  0.666429  0.600371  0.622774  0.625216   \n",
              "1  0.651021  0.675952  0.684793  0.703482  0.663944  0.615302  0.741056   \n",
              "2  0.637018  0.556543  0.623774  0.744353  0.693835  0.545147  0.462962   \n",
              "3  0.728718  0.699890  0.695106  0.638965  0.619190  0.580676  0.584562   \n",
              "4  0.829897  0.768713  0.692143  0.647314  0.612686  0.591696  0.526710   \n",
              "\n",
              "          7         8         9  ...       170       171       172       173  \\\n",
              "0  0.653666  0.656255  0.612870  ...  5.969228  5.682514  4.251714  3.387964   \n",
              "1  0.756061  0.717823  0.774559  ... -1.011408  3.456728  0.260819 -2.874355   \n",
              "2  0.485418  0.539763  0.697996  ...  0.206391  2.400558  0.485854  1.788706   \n",
              "3  0.549038  0.580974  0.654132  ...  4.554376  5.850909  2.365579  3.706890   \n",
              "4  0.519788  0.579912  0.596545  ...  4.232822  9.750684  2.543357  5.678115   \n",
              "\n",
              "        174       175       176       177       178       179  \n",
              "0  1.473648  3.906959 -1.517973  3.183940 -2.007786 -0.328439  \n",
              "1 -2.479680  1.902968 -4.251283 -2.231320 -3.425577 -3.876598  \n",
              "2  0.393422  0.476400 -4.061108 -4.213883 -3.190904 -2.102752  \n",
              "3 -1.429358  4.644539 -1.113072  1.315190 -1.325771 -1.838008  \n",
              "4  3.139075  3.269448  2.342859 -0.365670 -2.449152  1.611243  \n",
              "\n",
              "[5 rows x 180 columns]"
            ],
            "text/html": [
              "<div>\n",
              "<style scoped>\n",
              "    .dataframe tbody tr th:only-of-type {\n",
              "        vertical-align: middle;\n",
              "    }\n",
              "\n",
              "    .dataframe tbody tr th {\n",
              "        vertical-align: top;\n",
              "    }\n",
              "\n",
              "    .dataframe thead th {\n",
              "        text-align: right;\n",
              "    }\n",
              "</style>\n",
              "<table border=\"1\" class=\"dataframe\">\n",
              "  <thead>\n",
              "    <tr style=\"text-align: right;\">\n",
              "      <th></th>\n",
              "      <th>0</th>\n",
              "      <th>1</th>\n",
              "      <th>2</th>\n",
              "      <th>3</th>\n",
              "      <th>4</th>\n",
              "      <th>5</th>\n",
              "      <th>6</th>\n",
              "      <th>7</th>\n",
              "      <th>8</th>\n",
              "      <th>9</th>\n",
              "      <th>...</th>\n",
              "      <th>170</th>\n",
              "      <th>171</th>\n",
              "      <th>172</th>\n",
              "      <th>173</th>\n",
              "      <th>174</th>\n",
              "      <th>175</th>\n",
              "      <th>176</th>\n",
              "      <th>177</th>\n",
              "      <th>178</th>\n",
              "      <th>179</th>\n",
              "    </tr>\n",
              "  </thead>\n",
              "  <tbody>\n",
              "    <tr>\n",
              "      <th>0</th>\n",
              "      <td>0.782179</td>\n",
              "      <td>0.754238</td>\n",
              "      <td>0.741676</td>\n",
              "      <td>0.666429</td>\n",
              "      <td>0.600371</td>\n",
              "      <td>0.622774</td>\n",
              "      <td>0.625216</td>\n",
              "      <td>0.653666</td>\n",
              "      <td>0.656255</td>\n",
              "      <td>0.612870</td>\n",
              "      <td>...</td>\n",
              "      <td>5.969228</td>\n",
              "      <td>5.682514</td>\n",
              "      <td>4.251714</td>\n",
              "      <td>3.387964</td>\n",
              "      <td>1.473648</td>\n",
              "      <td>3.906959</td>\n",
              "      <td>-1.517973</td>\n",
              "      <td>3.183940</td>\n",
              "      <td>-2.007786</td>\n",
              "      <td>-0.328439</td>\n",
              "    </tr>\n",
              "    <tr>\n",
              "      <th>1</th>\n",
              "      <td>0.651021</td>\n",
              "      <td>0.675952</td>\n",
              "      <td>0.684793</td>\n",
              "      <td>0.703482</td>\n",
              "      <td>0.663944</td>\n",
              "      <td>0.615302</td>\n",
              "      <td>0.741056</td>\n",
              "      <td>0.756061</td>\n",
              "      <td>0.717823</td>\n",
              "      <td>0.774559</td>\n",
              "      <td>...</td>\n",
              "      <td>-1.011408</td>\n",
              "      <td>3.456728</td>\n",
              "      <td>0.260819</td>\n",
              "      <td>-2.874355</td>\n",
              "      <td>-2.479680</td>\n",
              "      <td>1.902968</td>\n",
              "      <td>-4.251283</td>\n",
              "      <td>-2.231320</td>\n",
              "      <td>-3.425577</td>\n",
              "      <td>-3.876598</td>\n",
              "    </tr>\n",
              "    <tr>\n",
              "      <th>2</th>\n",
              "      <td>0.637018</td>\n",
              "      <td>0.556543</td>\n",
              "      <td>0.623774</td>\n",
              "      <td>0.744353</td>\n",
              "      <td>0.693835</td>\n",
              "      <td>0.545147</td>\n",
              "      <td>0.462962</td>\n",
              "      <td>0.485418</td>\n",
              "      <td>0.539763</td>\n",
              "      <td>0.697996</td>\n",
              "      <td>...</td>\n",
              "      <td>0.206391</td>\n",
              "      <td>2.400558</td>\n",
              "      <td>0.485854</td>\n",
              "      <td>1.788706</td>\n",
              "      <td>0.393422</td>\n",
              "      <td>0.476400</td>\n",
              "      <td>-4.061108</td>\n",
              "      <td>-4.213883</td>\n",
              "      <td>-3.190904</td>\n",
              "      <td>-2.102752</td>\n",
              "    </tr>\n",
              "    <tr>\n",
              "      <th>3</th>\n",
              "      <td>0.728718</td>\n",
              "      <td>0.699890</td>\n",
              "      <td>0.695106</td>\n",
              "      <td>0.638965</td>\n",
              "      <td>0.619190</td>\n",
              "      <td>0.580676</td>\n",
              "      <td>0.584562</td>\n",
              "      <td>0.549038</td>\n",
              "      <td>0.580974</td>\n",
              "      <td>0.654132</td>\n",
              "      <td>...</td>\n",
              "      <td>4.554376</td>\n",
              "      <td>5.850909</td>\n",
              "      <td>2.365579</td>\n",
              "      <td>3.706890</td>\n",
              "      <td>-1.429358</td>\n",
              "      <td>4.644539</td>\n",
              "      <td>-1.113072</td>\n",
              "      <td>1.315190</td>\n",
              "      <td>-1.325771</td>\n",
              "      <td>-1.838008</td>\n",
              "    </tr>\n",
              "    <tr>\n",
              "      <th>4</th>\n",
              "      <td>0.829897</td>\n",
              "      <td>0.768713</td>\n",
              "      <td>0.692143</td>\n",
              "      <td>0.647314</td>\n",
              "      <td>0.612686</td>\n",
              "      <td>0.591696</td>\n",
              "      <td>0.526710</td>\n",
              "      <td>0.519788</td>\n",
              "      <td>0.579912</td>\n",
              "      <td>0.596545</td>\n",
              "      <td>...</td>\n",
              "      <td>4.232822</td>\n",
              "      <td>9.750684</td>\n",
              "      <td>2.543357</td>\n",
              "      <td>5.678115</td>\n",
              "      <td>3.139075</td>\n",
              "      <td>3.269448</td>\n",
              "      <td>2.342859</td>\n",
              "      <td>-0.365670</td>\n",
              "      <td>-2.449152</td>\n",
              "      <td>1.611243</td>\n",
              "    </tr>\n",
              "  </tbody>\n",
              "</table>\n",
              "<p>5 rows × 180 columns</p>\n",
              "</div>"
            ]
          },
          "metadata": {},
          "execution_count": 105
        }
      ]
    },
    {
      "cell_type": "markdown",
      "metadata": {
        "id": "esInVDq7L9hT"
      },
      "source": [
        "Let's see the class balance of our dataset:"
      ]
    },
    {
      "cell_type": "code",
      "execution_count": 14,
      "metadata": {
        "id": "Si3OFQe7L9hU",
        "outputId": "3216d7c4-f7e4-42d7-ad34-8de569a211b8",
        "colab": {
          "base_uri": "https://localhost:8080/",
          "height": 399
        }
      },
      "outputs": [
        {
          "output_type": "display_data",
          "data": {
            "text/plain": [
              "<Figure size 3500x400 with 1 Axes>"
            ],
            "image/png": "[encoded data removed]"
          },
          "metadata": {}
        }
      ],
      "source": [
        "# plot emotions\n",
        "plt.figure(figsize=(35,4))\n",
        "plt.subplot(1,3,1)\n",
        "#np.unique returns ordered list of unique elements and count of each element\n",
        "emotion_list, count = np.unique(emotions, return_counts=True)\n",
        "plt.bar(x=range(8), height=count)\n",
        "plt.xticks(ticks=range(8), labels = [emotion for emotion in emotion_list],fontsize=10)\n",
        "plt.xlabel('Emotion')\n",
        "plt.tick_params(labelsize=16)\n",
        "plt.ylabel('Number of Samples')\n",
        "plt.show()"
      ]
    },
    {
      "cell_type": "code",
      "source": [
        "# plot emotions\n",
        "plt.figure(figsize=(35,4))\n",
        "plt.subplot(2,3,1)\n",
        "#np.unique returns ordered list of unique elements and count of each element\n",
        "my_emotion_list, count = np.unique(my_emotions, return_counts=True)\n",
        "plt.bar(x=range(8), height=count)\n",
        "plt.xticks(ticks=range(8), labels = [my_emotion for my_emotion in my_emotion_list],fontsize=10)\n",
        "plt.xlabel('Emotion')\n",
        "plt.tick_params(labelsize=16)\n",
        "plt.ylabel('Number of Samples')\n",
        "plt.show()"
      ],
      "metadata": {
        "colab": {
          "base_uri": "https://localhost:8080/",
          "height": 227
        },
        "id": "yvU1Qjr4YuTi",
        "outputId": "fae2799e-5e7d-49bc-afa0-76b1a8c63c02"
      },
      "execution_count": 113,
      "outputs": [
        {
          "output_type": "display_data",
          "data": {
            "text/plain": [
              "<Figure size 3500x400 with 1 Axes>"
            ],
            "image/png": "[encoded data removed]"
          },
          "metadata": {}
        }
      ]
    },
    {
      "cell_type": "markdown",
      "metadata": {
        "id": "Mw_wKC8WL9hV"
      },
      "source": [
        "**Great, the classes appear to be balanced. That makes the task easier.** All emotions _except_ the neutral class have a \"strong\" intensity so there are half as many neutral samples. That might have an impact."
      ]
    },
    {
      "cell_type": "markdown",
      "metadata": {
        "id": "WhtlYshOL9hV"
      },
      "source": [
        "### Feature Scaling\n",
        "To properly train most machine learning models on _most_ datasets, we first need to scale our features. **This is crucial for models which compute distances between data, and especially critical for DNNs**: If there is a difference in the variance of features simply because of their possible range of values, then a model will learn that the features with the greatest variance are the most important. However, **differences in the variance of unscaled features belonging to different and unknown distributions is an inappropriate measure of importance.** Let's check our features' properties:"
      ]
    },
    {
      "cell_type": "code",
      "execution_count": 15,
      "metadata": {
        "id": "_IUm1DLwL9hW",
        "outputId": "0f6780eb-d777-45c4-b876-0c9908e3b7cc",
        "colab": {
          "base_uri": "https://localhost:8080/"
        }
      },
      "outputs": [
        {
          "output_type": "stream",
          "name": "stdout",
          "text": [
            "12 Chromagram features:           min = 0.000,     max = 0.874,     mean = 0.664,     deviation = 0.094\n",
            "\n",
            "128 Mel Spectrogram features:     min = 0.000,     max = 149.208,     mean = 0.187,     deviation = 1.597\n",
            "\n",
            "40 MFCC features:                 min = -873.242,    max = 115.126,    mean = -14.575,    deviation = 98.327\n"
          ]
        }
      ],
      "source": [
        "# We would usually use df.describe(), but it provides a bit of a mess of information we don't need at the moment.\n",
        "def print_features(df):\n",
        "    # Check chromagram feature values\n",
        "    features_df_chromagram = df.loc[:,:11]\n",
        "    chroma_min = features_df_chromagram.min().min()\n",
        "    chroma_max = features_df_chromagram.max().max()\n",
        "    # stack all features into a single series so we don't get a mean of means or stdev of stdevs\n",
        "    chroma_mean = features_df_chromagram.stack().mean()\n",
        "    chroma_stdev = features_df_chromagram.stack().std()\n",
        "    print(f'12 Chromagram features:       \\\n",
        "    min = {chroma_min:.3f}, \\\n",
        "    max = {chroma_max:.3f}, \\\n",
        "    mean = {chroma_mean:.3f}, \\\n",
        "    deviation = {chroma_stdev:.3f}')\n",
        "\n",
        "    # Check mel spectrogram feature values\n",
        "    features_df_melspectrogram = df.loc[:,12:139]\n",
        "    mel_min = features_df_melspectrogram.min().min()\n",
        "    mel_max = features_df_melspectrogram.max().max()\n",
        "    # stack all features into a single series so we don't get a mean of means or stdev of stdevs\n",
        "    mel_mean = features_df_melspectrogram.stack().mean()\n",
        "    mel_stdev = features_df_melspectrogram.stack().std()\n",
        "    print(f'\\n128 Mel Spectrogram features: \\\n",
        "    min = {mel_min:.3f}, \\\n",
        "    max = {mel_max:.3f}, \\\n",
        "    mean = {mel_mean:.3f}, \\\n",
        "    deviation = {mel_stdev:.3f}')\n",
        "\n",
        "    # Check MFCC feature values\n",
        "    features_df_mfcc = df.loc[:,140:179]\n",
        "    mfcc_min = features_df_mfcc.min().min()\n",
        "    mfcc_max = features_df_mfcc.max().max()\n",
        "    # stack all features into a single series so we don't get a mean of means or stdev of stdevs\n",
        "    mfcc_mean = features_df_mfcc.stack().mean()\n",
        "    mfcc_stdev = features_df_mfcc.stack().std()\n",
        "    print(f'\\n40 MFCC features:             \\\n",
        "    min = {mfcc_min:.3f},\\\n",
        "    max = {mfcc_max:.3f},\\\n",
        "    mean = {mfcc_mean:.3f},\\\n",
        "    deviation = {mfcc_stdev:.3f}')\n",
        "\n",
        "print_features(features_df)"
      ]
    },
    {
      "cell_type": "code",
      "source": [
        "# We would usually use df.describe(), but it provides a bit of a mess of information we don't need at the moment.\n",
        "def print_my_features(df):\n",
        "    # Check chromagram feature values\n",
        "    features_df_chromagram = df.loc[:,:11]\n",
        "    chroma_min = features_df_chromagram.min().min()\n",
        "    chroma_max = features_df_chromagram.max().max()\n",
        "    # stack all features into a single series so we don't get a mean of means or stdev of stdevs\n",
        "    chroma_mean = features_df_chromagram.stack().mean()\n",
        "    chroma_stdev = features_df_chromagram.stack().std()\n",
        "    print(f'12 Chromagram features:       \\\n",
        "    min = {chroma_min:.3f}, \\\n",
        "    max = {chroma_max:.3f}, \\\n",
        "    mean = {chroma_mean:.3f}, \\\n",
        "    deviation = {chroma_stdev:.3f}')\n",
        "\n",
        "    # Check mel spectrogram feature values\n",
        "    features_df_melspectrogram = df.loc[:,12:139]\n",
        "    mel_min = features_df_melspectrogram.min().min()\n",
        "    mel_max = features_df_melspectrogram.max().max()\n",
        "    # stack all features into a single series so we don't get a mean of means or stdev of stdevs\n",
        "    mel_mean = features_df_melspectrogram.stack().mean()\n",
        "    mel_stdev = features_df_melspectrogram.stack().std()\n",
        "    print(f'\\n128 Mel Spectrogram features: \\\n",
        "    min = {mel_min:.3f}, \\\n",
        "    max = {mel_max:.3f}, \\\n",
        "    mean = {mel_mean:.3f}, \\\n",
        "    deviation = {mel_stdev:.3f}')\n",
        "\n",
        "    # Check MFCC feature values\n",
        "    features_df_mfcc = df.loc[:,140:179]\n",
        "    mfcc_min = features_df_mfcc.min().min()\n",
        "    mfcc_max = features_df_mfcc.max().max()\n",
        "    # stack all features into a single series so we don't get a mean of means or stdev of stdevs\n",
        "    mfcc_mean = features_df_mfcc.stack().mean()\n",
        "    mfcc_stdev = features_df_mfcc.stack().std()\n",
        "    print(f'\\n40 MFCC features:             \\\n",
        "    min = {mfcc_min:.3f},\\\n",
        "    max = {mfcc_max:.3f},\\\n",
        "    mean = {mfcc_mean:.3f},\\\n",
        "    deviation = {mfcc_stdev:.3f}')\n",
        "\n",
        "print_my_features(my_features_df)"
      ],
      "metadata": {
        "id": "3ha1FxBSCpqA",
        "colab": {
          "base_uri": "https://localhost:8080/"
        },
        "outputId": "2d989f1d-9661-4214-8a41-3418adc806cc"
      },
      "execution_count": 114,
      "outputs": [
        {
          "output_type": "stream",
          "name": "stdout",
          "text": [
            "12 Chromagram features:           min = 0.463,     max = 0.895,     mean = 0.663,     deviation = 0.089\n",
            "\n",
            "128 Mel Spectrogram features:     min = 0.000,     max = 3.630,     mean = 0.084,     deviation = 0.233\n",
            "\n",
            "40 MFCC features:                 min = -533.563,    max = 60.604,    mean = -9.542,    deviation = 75.505\n"
          ]
        }
      ]
    },
    {
      "cell_type": "markdown",
      "metadata": {
        "id": "gFgQlYSlL9hW"
      },
      "source": [
        "**There's an obvious imbalance in the variance our features; Our features indeed belong to very different distributions:** our MFC coefficients' deviation is greater than the other features by orders of magnitude. That does not mean MFC coefficients are the most important feature, but rather it is a property of the way they are computed.  We will certainly need to scale this feature set.\n",
        "\n",
        "We have the choice of sklearn's StandardScaler and MinMaxScaler. Standard scaling subtracts the mean of each feature and divides it by the standard deviation of that feature, producing features with mean at zero and unit variance - that is, a variance and standard deviation of 1. Min-Max scaling transforms each feature to be within a bounded interval that we specify.\n",
        "\n",
        "In practice, **MinMax scaling is especially useful when we know our features should be in a bounded interval**, such as pixel values in [0,255], while **standard scaling is perhaps more practical for features with unknown distributions** because centering the features at zero-mean with a standard deviation of 1 means extreme values will have less of an impact on the model's learned weights, i.e. the model is less sensitive to outliers.\n",
        "\n",
        "We'll create MinMax scaled features as well so we can give them a try later on to confirm that standard scaling is better in the absence of knowledge on the appropriate distribution for a dataset's features."
      ]
    },
    {
      "cell_type": "code",
      "execution_count": 16,
      "metadata": {
        "id": "_BCAYVEUL9hW"
      },
      "outputs": [],
      "source": [
        "from sklearn.preprocessing import StandardScaler\n",
        "from sklearn.preprocessing import MinMaxScaler\n",
        "\n",
        "scaler = StandardScaler()\n",
        "# keep our unscaled features just in case we need to process them alternatively\n",
        "features_scaled = features\n",
        "features_scaled = scaler.fit_transform(features_scaled)\n",
        "\n",
        "scaler = MinMaxScaler()\n",
        "# keep our unscaled features just in case we need to process them alternatively\n",
        "features_minmax = features\n",
        "features_minmax = scaler.fit_transform(features_minmax)"
      ]
    },
    {
      "cell_type": "code",
      "source": [
        "from sklearn.preprocessing import StandardScaler\n",
        "from sklearn.preprocessing import MinMaxScaler\n",
        "\n",
        "my_scaler = StandardScaler()\n",
        "# keep our unscaled features just in case we need to process them alternatively\n",
        "my_features_scaled = my_features\n",
        "my_features_scaled = my_scaler.fit_transform(my_features_scaled)\n",
        "\n",
        "my_scaler = MinMaxScaler()\n",
        "# keep our unscaled features just in case we need to process them alternatively\n",
        "my_features_minmax = my_features\n",
        "my_features_minmax = my_scaler.fit_transform(my_features_minmax)"
      ],
      "metadata": {
        "id": "s_K9TgAfNmph"
      },
      "execution_count": 115,
      "outputs": []
    },
    {
      "cell_type": "markdown",
      "metadata": {
        "id": "r4ATx5oNL9hX"
      },
      "source": [
        "Make sure our features are properly scaled:"
      ]
    },
    {
      "cell_type": "code",
      "execution_count": 18,
      "metadata": {
        "id": "mlRuHQkKL9hX",
        "outputId": "0d3d2894-6e41-4373-bd5e-f9db32028ee2",
        "colab": {
          "base_uri": "https://localhost:8080/"
        }
      },
      "outputs": [
        {
          "output_type": "stream",
          "name": "stdout",
          "text": [
            "\u001b[1mStandard Scaling:\n",
            "\u001b[0m\n",
            "12 Chromagram features:           min = -7.976,     max = 2.365,     mean = 0.000,     deviation = 1.000\n",
            "\n",
            "128 Mel Spectrogram features:     min = -0.474,     max = 36.543,     mean = -0.000,     deviation = 1.000\n",
            "\n",
            "40 MFCC features:                 min = -4.306,    max = 6.240,    mean = -0.000,    deviation = 1.000\n",
            "\n",
            "\n",
            "\u001b[1mMinMax Scaling:\n",
            "\u001b[0m\n",
            "12 Chromagram features:           min = 0.000,     max = 1.000,     mean = 0.782,     deviation = 0.110\n",
            "\n",
            "128 Mel Spectrogram features:     min = 0.000,     max = 1.000,     mean = 0.015,     deviation = 0.061\n",
            "\n",
            "40 MFCC features:                 min = 0.000,    max = 1.000,    mean = 0.404,    deviation = 0.166\n"
          ]
        }
      ],
      "source": [
        "print('\\033[1m'+'Standard Scaling:\\n'+'\\033[0m')\n",
        "features_scaled_df = pd.DataFrame(features_scaled)\n",
        "print_features(features_scaled_df)\n",
        "\n",
        "print('\\n\\n\\033[1m'+'MinMax Scaling:\\n'+'\\033[0m')\n",
        "features_minmax_df = pd.DataFrame(features_minmax)\n",
        "print_features(features_minmax_df)"
      ]
    },
    {
      "cell_type": "code",
      "source": [
        "print('\\033[1m'+'Standard Scaling:\\n'+'\\033[0m')\n",
        "my_features_scaled_df = pd.DataFrame(my_features_scaled)\n",
        "print_my_features(my_features_scaled_df)\n",
        "\n",
        "print('\\n\\n\\033[1m'+'MinMax Scaling:\\n'+'\\033[0m')\n",
        "my_features_minmax_df = pd.DataFrame(my_features_minmax)\n",
        "print_my_features(my_features_minmax_df)"
      ],
      "metadata": {
        "id": "AKdPaL-LNyGQ",
        "outputId": "d2ee14d4-7600-4398-f649-0bb9fee725b5",
        "colab": {
          "base_uri": "https://localhost:8080/"
        }
      },
      "execution_count": 116,
      "outputs": [
        {
          "output_type": "stream",
          "name": "stdout",
          "text": [
            "\u001b[1mStandard Scaling:\n",
            "\u001b[0m\n",
            "12 Chromagram features:           min = -2.745,     max = 2.373,     mean = 0.000,     deviation = 1.003\n",
            "\n",
            "128 Mel Spectrogram features:     min = -1.628,     max = 3.770,     mean = -0.000,     deviation = 1.000\n",
            "\n",
            "40 MFCC features:                 min = -2.972,    max = 2.973,    mean = -0.000,    deviation = 1.001\n",
            "\n",
            "\n",
            "\u001b[1mMinMax Scaling:\n",
            "\u001b[0m\n",
            "12 Chromagram features:           min = 0.000,     max = 1.000,     mean = 0.523,     deviation = 0.295\n",
            "\n",
            "128 Mel Spectrogram features:     min = 0.000,     max = 1.000,     mean = 0.231,     deviation = 0.291\n",
            "\n",
            "40 MFCC features:                 min = 0.000,    max = 1.000,    mean = 0.482,    deviation = 0.298\n"
          ]
        }
      ]
    },
    {
      "cell_type": "markdown",
      "metadata": {
        "id": "vZfzIh7DL9hX"
      },
      "source": [
        "Perfect. Zero mean and unit variance for standard scaling and in the range [0,1] for MinMax scaling - a default when we don't specify values. We can now move on to building predictive models for these features."
      ]
    },
    {
      "cell_type": "markdown",
      "metadata": {
        "id": "z5tXewLEL9hX"
      },
      "source": [
        "## Classical Machine Learning Models\n",
        "\n",
        "\n",
        "Classical machine learning models encompass a broad range of algorithms that have been foundational to the field's development and are still widely used for various predictive tasks. These models can be broadly categorized into supervised and unsupervised learning methods, each suited for different kinds of data and objectives.\n",
        "\n",
        "We will be looking into few popular Machine Learning Algorithms such as Support Vector Machine(SVM), K-Nearest Neighbors and Random Forest Classifier. There are many other classical models with their own strengths and weaknesses, and the choice of model depends on the specific requirements of the task, including the nature of the data, the complexity of the problem, and the computational efficiency required. Despite the rise of deep learning, classical machine learning models remain vital tools in a data scientist's arsenal due to their efficiency, interpretability, and strong performance in many scenarios.\n",
        "\n",
        "The use of classic machine learning method is due to the small size of our dataset; Some of the most robust models such as Support vector (machine) classifiers **(SVC) and k-Nearest-Neighbour classifiers (kNN) are particularly suited to smaller datasets and fall apart with huge datasets.**\n"
      ]
    },
    {
      "cell_type": "markdown",
      "metadata": {
        "id": "jwU-jXSGL9hY"
      },
      "source": [
        "### Training: The 80/20 Split and Validation\n",
        "In order to compare models, we'll have to evaluate their performance. The simplest method to do so is to train a model on a portion of our dataset and test it on the remainder. We'll use sklearn's train_test_split to create a standard 80/20 train/test split. The model is fit on 80% of\n",
        "the data and tested for performance against 20% of the data, which it has never seen in training - also called the hold-out set.\n",
        " <img src=\"https://github.com/IAT-ExploringAI-2024/Week3-Machine_Learning/blob/main/images/Capture2.PNG?raw=true\" width=\"800\">\n",
        "\n",
        "More accurately, the proper modality for training and scoring a model is to\n",
        "1. Fit/train our model on a _training_ set,\n",
        "2. Evaluate the model on a _validation_ set to tune the hyperparameters for better performance,\n",
        "3. Finally score our model's true performance - its **generalizability** - against a _test_ set, aka the hold-out set.\n",
        "4. Repeat from 2. **Do not tune the model to score well on the test set**. Only evaluate on test-set once.\n",
        "\n",
        "Different set ratios are used in this approach - a usual example is 60/20/20 train/validation/test.For simplicity, we're going to start with an 80/20 train/test split. The model will be trained on all the training data, and we will check its performance on the test data. We'll skip validation for now.\n",
        "\n",
        " <img src=\"https://github.com/IAT-ExploringAI-2024/Week3-ClassicML/blob/main/images/traintestsplit.PNG?raw=true\" width=\"800\">\n",
        "\n",
        "Define unscaled and scaled training and test sets:"
      ]
    },
    {
      "cell_type": "code",
      "execution_count": 20,
      "metadata": {
        "id": "8jGN4ROVL9hY"
      },
      "outputs": [],
      "source": [
        "from sklearn.model_selection import train_test_split\n",
        "\n",
        "\n",
        "############# Unscaled test/train set #############\n",
        "X_train, X_test, y_train, y_test =train_test_split(\n",
        "    features,\n",
        "    emotions,\n",
        "    test_size=0.2,\n",
        "    random_state=42\n",
        ")\n",
        "\n",
        "############ Standard Scaled test/train set ###########\n",
        "# The labels/classes (y_train, y_test) never change, keep old values\n",
        "X_train_scaled, X_test_scaled, _, _ = train_test_split(\n",
        "    features_scaled,\n",
        "    emotions,\n",
        "    test_size=0.2,\n",
        "    random_state=42\n",
        ")\n",
        "\n",
        "############# MinMax Scaled test/train set ###############\n",
        "# The labels/classes (y_train, y_test) never change, keep old values\n",
        "X_train_minmax, X_test_minmax, _, _ = train_test_split(\n",
        "    features_minmax,\n",
        "    emotions,\n",
        "    test_size=0.2,\n",
        "    random_state=42\n",
        ")"
      ]
    },
    {
      "cell_type": "code",
      "source": [
        "from sklearn.model_selection import train_test_split\n",
        "\n",
        "\n",
        "############# Unscaled test/train set #############\n",
        "X_train, X_test, y_train, y_test =train_test_split(\n",
        "    my_features,\n",
        "    my_emotions,\n",
        "    test_size=0.2,\n",
        "    random_state=42\n",
        ")\n",
        "\n",
        "############ Standard Scaled test/train set ###########\n",
        "# The labels/classes (y_train, y_test) never change, keep old values\n",
        "X_train_scaled, X_test_scaled, _, _ = train_test_split(\n",
        "    my_features_scaled,\n",
        "    my_emotions,\n",
        "    test_size=0.2,\n",
        "    random_state=42\n",
        ")\n",
        "\n",
        "############# MinMax Scaled test/train set ###############\n",
        "# The labels/classes (y_train, y_test) never change, keep old values\n",
        "X_train_minmax, X_test_minmax, _, _ = train_test_split(\n",
        "    my_features_minmax,\n",
        "    my_emotions,\n",
        "    test_size=0.2,\n",
        "    random_state=42\n",
        ")"
      ],
      "metadata": {
        "id": "55U8pjnkOGws"
      },
      "execution_count": 122,
      "outputs": []
    },
    {
      "cell_type": "markdown",
      "metadata": {
        "id": "Q3Mh0RrEL9hY"
      },
      "source": [
        "### Comparing Models\n",
        "We'll try each off-the-shelf machine learning model from sklearn and pick a few to explore, since these models will train near instantly on this dataset."
      ]
    },
    {
      "cell_type": "code",
      "source": [
        "from sklearn.neighbors import KNeighborsClassifier\n",
        "from sklearn.svm import SVC\n",
        "from sklearn.tree import DecisionTreeClassifier\n",
        "from sklearn.ensemble import RandomForestClassifier, AdaBoostClassifier\n",
        "from sklearn.naive_bayes import GaussianNB\n",
        "from sklearn.discriminant_analysis import QuadraticDiscriminantAnalysis\n",
        "\n",
        "classification_models = [\n",
        "    KNeighborsClassifier(),#(3),\n",
        "    SVC(kernel='linear'),#, C=0.025),\n",
        "    SVC(kernel='rbf'),\n",
        "    DecisionTreeClassifier(),#max_depth=5),\n",
        "    RandomForestClassifier(),#max_depth=5, n_estimators=10, max_features=1),\n",
        "    AdaBoostClassifier(),\n",
        "    GaussianNB(),\n",
        "    QuadraticDiscriminantAnalysis()]\n",
        "\n",
        "scores = []\n",
        "for model in classification_models:\n",
        "    model.fit(X_train, y_train)\n",
        "    score = model.score(X_test, y_test)\n",
        "    model_name = type(model).__name__\n",
        "    if model_name=='SVC' and model.kernel=='rbf': model_name+=' RBF kernel'\n",
        "    scores.append((model_name,(f'{100*score:.2f}%')))\n",
        "# Make it pretty\n",
        "scores_df = pd.DataFrame(scores,columns=['Classifier','Accuracy Score'])\n",
        "scores_df.sort_values(by='Accuracy Score',axis=0,ascending=False)"
      ],
      "metadata": {
        "colab": {
          "base_uri": "https://localhost:8080/",
          "height": 300
        },
        "id": "PdmJm0GnLC2G",
        "outputId": "ad811f1e-382c-4643-88ff-94c3a9a691a9"
      },
      "execution_count": 26,
      "outputs": [
        {
          "output_type": "execute_result",
          "data": {
            "text/plain": [
              "                      Classifier Accuracy Score\n",
              "4         RandomForestClassifier         61.11%\n",
              "1                            SVC         53.47%\n",
              "0           KNeighborsClassifier         47.92%\n",
              "3         DecisionTreeClassifier         41.32%\n",
              "2                 SVC RBF kernel         30.56%\n",
              "6                     GaussianNB         30.56%\n",
              "5             AdaBoostClassifier         27.08%\n",
              "7  QuadraticDiscriminantAnalysis         22.92%"
            ],
            "text/html": [
              "<div>\n",
              "<style scoped>\n",
              "    .dataframe tbody tr th:only-of-type {\n",
              "        vertical-align: middle;\n",
              "    }\n",
              "\n",
              "    .dataframe tbody tr th {\n",
              "        vertical-align: top;\n",
              "    }\n",
              "\n",
              "    .dataframe thead th {\n",
              "        text-align: right;\n",
              "    }\n",
              "</style>\n",
              "<table border=\"1\" class=\"dataframe\">\n",
              "  <thead>\n",
              "    <tr style=\"text-align: right;\">\n",
              "      <th></th>\n",
              "      <th>Classifier</th>\n",
              "      <th>Accuracy Score</th>\n",
              "    </tr>\n",
              "  </thead>\n",
              "  <tbody>\n",
              "    <tr>\n",
              "      <th>4</th>\n",
              "      <td>RandomForestClassifier</td>\n",
              "      <td>61.11%</td>\n",
              "    </tr>\n",
              "    <tr>\n",
              "      <th>1</th>\n",
              "      <td>SVC</td>\n",
              "      <td>53.47%</td>\n",
              "    </tr>\n",
              "    <tr>\n",
              "      <th>0</th>\n",
              "      <td>KNeighborsClassifier</td>\n",
              "      <td>47.92%</td>\n",
              "    </tr>\n",
              "    <tr>\n",
              "      <th>3</th>\n",
              "      <td>DecisionTreeClassifier</td>\n",
              "      <td>41.32%</td>\n",
              "    </tr>\n",
              "    <tr>\n",
              "      <th>2</th>\n",
              "      <td>SVC RBF kernel</td>\n",
              "      <td>30.56%</td>\n",
              "    </tr>\n",
              "    <tr>\n",
              "      <th>6</th>\n",
              "      <td>GaussianNB</td>\n",
              "      <td>30.56%</td>\n",
              "    </tr>\n",
              "    <tr>\n",
              "      <th>5</th>\n",
              "      <td>AdaBoostClassifier</td>\n",
              "      <td>27.08%</td>\n",
              "    </tr>\n",
              "    <tr>\n",
              "      <th>7</th>\n",
              "      <td>QuadraticDiscriminantAnalysis</td>\n",
              "      <td>22.92%</td>\n",
              "    </tr>\n",
              "  </tbody>\n",
              "</table>\n",
              "</div>"
            ]
          },
          "metadata": {},
          "execution_count": 26
        }
      ]
    },
    {
      "cell_type": "code",
      "source": [
        "from sklearn.neighbors import KNeighborsClassifier\n",
        "from sklearn.svm import SVC\n",
        "from sklearn.tree import DecisionTreeClassifier\n",
        "from sklearn.ensemble import RandomForestClassifier, AdaBoostClassifier\n",
        "from sklearn.naive_bayes import GaussianNB\n",
        "from sklearn.discriminant_analysis import QuadraticDiscriminantAnalysis\n",
        "\n",
        "classification_models = [\n",
        "    KNeighborsClassifier(),#(3),\n",
        "    SVC(kernel='linear'),#, C=0.025),\n",
        "    SVC(kernel='rbf'),\n",
        "    DecisionTreeClassifier(),#max_depth=5),\n",
        "    RandomForestClassifier(),#max_depth=5, n_estimators=10, max_features=1),\n",
        "    AdaBoostClassifier(),\n",
        "    GaussianNB(),\n",
        "    QuadraticDiscriminantAnalysis()]\n",
        "\n",
        "my_scores = []\n",
        "for model in classification_models:\n",
        "    model.fit(X_train, y_train)\n",
        "    score = model.score(X_test, y_test)\n",
        "    model_name = type(model).__name__\n",
        "    if model_name=='SVC' and model.kernel=='rbf': model_name+=' RBF kernel'\n",
        "    my_scores.append((model_name,(f'{100*score:.2f}%')))\n",
        "# Make it pretty\n",
        "scores_df = pd.DataFrame(my_scores,columns=['Classifier','Accuracy Score'])\n",
        "scores_df.sort_values(by='Accuracy Score',axis=0,ascending=False)"
      ],
      "metadata": {
        "id": "c_2G8jvsOVPK",
        "outputId": "9ee6109e-4a7d-4451-b37b-ecd1e91ba2ff",
        "colab": {
          "base_uri": "https://localhost:8080/",
          "height": 591
        }
      },
      "execution_count": 127,
      "outputs": [
        {
          "output_type": "error",
          "ename": "ValueError",
          "evalue": "y has only 1 sample in class angry, covariance is ill defined.",
          "traceback": [
            "\u001b[0;31m---------------------------------------------------------------------------\u001b[0m",
            "\u001b[0;31mValueError\u001b[0m                                Traceback (most recent call last)",
            "Cell \u001b[0;32mIn[127], line 20\u001b[0m\n\u001b[1;32m     18\u001b[0m my_scores \u001b[38;5;241m=\u001b[39m []\n\u001b[1;32m     19\u001b[0m \u001b[38;5;28;01mfor\u001b[39;00m model \u001b[38;5;129;01min\u001b[39;00m classification_models:\n\u001b[0;32m---> 20\u001b[0m     \u001b[43mmodel\u001b[49m\u001b[38;5;241;43m.\u001b[39;49m\u001b[43mfit\u001b[49m\u001b[43m(\u001b[49m\u001b[43mX_train\u001b[49m\u001b[43m,\u001b[49m\u001b[43m \u001b[49m\u001b[43my_train\u001b[49m\u001b[43m)\u001b[49m\n\u001b[1;32m     21\u001b[0m     score \u001b[38;5;241m=\u001b[39m model\u001b[38;5;241m.\u001b[39mscore(X_test, y_test)\n\u001b[1;32m     22\u001b[0m     model_name \u001b[38;5;241m=\u001b[39m \u001b[38;5;28mtype\u001b[39m(model)\u001b[38;5;241m.\u001b[39m\u001b[38;5;18m__name__\u001b[39m\n",
            "File \u001b[0;32m/Library/Frameworks/Python.framework/Versions/3.11/lib/python3.11/site-packages/sklearn/base.py:1473\u001b[0m, in \u001b[0;36m_fit_context.<locals>.decorator.<locals>.wrapper\u001b[0;34m(estimator, *args, **kwargs)\u001b[0m\n\u001b[1;32m   1466\u001b[0m     estimator\u001b[38;5;241m.\u001b[39m_validate_params()\n\u001b[1;32m   1468\u001b[0m \u001b[38;5;28;01mwith\u001b[39;00m config_context(\n\u001b[1;32m   1469\u001b[0m     skip_parameter_validation\u001b[38;5;241m=\u001b[39m(\n\u001b[1;32m   1470\u001b[0m         prefer_skip_nested_validation \u001b[38;5;129;01mor\u001b[39;00m global_skip_validation\n\u001b[1;32m   1471\u001b[0m     )\n\u001b[1;32m   1472\u001b[0m ):\n\u001b[0;32m-> 1473\u001b[0m     \u001b[38;5;28;01mreturn\u001b[39;00m \u001b[43mfit_method\u001b[49m\u001b[43m(\u001b[49m\u001b[43mestimator\u001b[49m\u001b[43m,\u001b[49m\u001b[43m \u001b[49m\u001b[38;5;241;43m*\u001b[39;49m\u001b[43margs\u001b[49m\u001b[43m,\u001b[49m\u001b[43m \u001b[49m\u001b[38;5;241;43m*\u001b[39;49m\u001b[38;5;241;43m*\u001b[39;49m\u001b[43mkwargs\u001b[49m\u001b[43m)\u001b[49m\n",
            "File \u001b[0;32m/Library/Frameworks/Python.framework/Versions/3.11/lib/python3.11/site-packages/sklearn/discriminant_analysis.py:938\u001b[0m, in \u001b[0;36mQuadraticDiscriminantAnalysis.fit\u001b[0;34m(self, X, y)\u001b[0m\n\u001b[1;32m    936\u001b[0m means\u001b[38;5;241m.\u001b[39mappend(meang)\n\u001b[1;32m    937\u001b[0m \u001b[38;5;28;01mif\u001b[39;00m \u001b[38;5;28mlen\u001b[39m(Xg) \u001b[38;5;241m==\u001b[39m \u001b[38;5;241m1\u001b[39m:\n\u001b[0;32m--> 938\u001b[0m     \u001b[38;5;28;01mraise\u001b[39;00m \u001b[38;5;167;01mValueError\u001b[39;00m(\n\u001b[1;32m    939\u001b[0m         \u001b[38;5;124m\"\u001b[39m\u001b[38;5;124my has only 1 sample in class \u001b[39m\u001b[38;5;132;01m%s\u001b[39;00m\u001b[38;5;124m, covariance is ill defined.\u001b[39m\u001b[38;5;124m\"\u001b[39m\n\u001b[1;32m    940\u001b[0m         \u001b[38;5;241m%\u001b[39m \u001b[38;5;28mstr\u001b[39m(\u001b[38;5;28mself\u001b[39m\u001b[38;5;241m.\u001b[39mclasses_[ind])\n\u001b[1;32m    941\u001b[0m     )\n\u001b[1;32m    942\u001b[0m Xgc \u001b[38;5;241m=\u001b[39m Xg \u001b[38;5;241m-\u001b[39m meang\n\u001b[1;32m    943\u001b[0m \u001b[38;5;66;03m# Xgc = U * S * V.T\u001b[39;00m\n",
            "\u001b[0;31mValueError\u001b[0m: y has only 1 sample in class angry, covariance is ill defined."
          ]
        }
      ]
    },
    {
      "cell_type": "code",
      "execution_count": 25,
      "metadata": {
        "scrolled": true,
        "id": "iLPeyR7vL9he",
        "outputId": "b763860e-97ff-41f5-be5f-c387b0e1597e",
        "colab": {
          "base_uri": "https://localhost:8080/",
          "height": 300
        }
      },
      "outputs": [
        {
          "output_type": "execute_result",
          "data": {
            "text/plain": [
              "                      Classifier Accuracy Score\n",
              "4         RandomForestClassifier         59.38%\n",
              "1                            SVC         56.60%\n",
              "2                 SVC RBF kernel         52.78%\n",
              "0           KNeighborsClassifier         52.43%\n",
              "3         DecisionTreeClassifier         37.85%\n",
              "6                     GaussianNB         32.29%\n",
              "5             AdaBoostClassifier         27.08%\n",
              "7  QuadraticDiscriminantAnalysis         20.83%"
            ],
            "text/html": [
              "<div>\n",
              "<style scoped>\n",
              "    .dataframe tbody tr th:only-of-type {\n",
              "        vertical-align: middle;\n",
              "    }\n",
              "\n",
              "    .dataframe tbody tr th {\n",
              "        vertical-align: top;\n",
              "    }\n",
              "\n",
              "    .dataframe thead th {\n",
              "        text-align: right;\n",
              "    }\n",
              "</style>\n",
              "<table border=\"1\" class=\"dataframe\">\n",
              "  <thead>\n",
              "    <tr style=\"text-align: right;\">\n",
              "      <th></th>\n",
              "      <th>Classifier</th>\n",
              "      <th>Accuracy Score</th>\n",
              "    </tr>\n",
              "  </thead>\n",
              "  <tbody>\n",
              "    <tr>\n",
              "      <th>4</th>\n",
              "      <td>RandomForestClassifier</td>\n",
              "      <td>59.38%</td>\n",
              "    </tr>\n",
              "    <tr>\n",
              "      <th>1</th>\n",
              "      <td>SVC</td>\n",
              "      <td>56.60%</td>\n",
              "    </tr>\n",
              "    <tr>\n",
              "      <th>2</th>\n",
              "      <td>SVC RBF kernel</td>\n",
              "      <td>52.78%</td>\n",
              "    </tr>\n",
              "    <tr>\n",
              "      <th>0</th>\n",
              "      <td>KNeighborsClassifier</td>\n",
              "      <td>52.43%</td>\n",
              "    </tr>\n",
              "    <tr>\n",
              "      <th>3</th>\n",
              "      <td>DecisionTreeClassifier</td>\n",
              "      <td>37.85%</td>\n",
              "    </tr>\n",
              "    <tr>\n",
              "      <th>6</th>\n",
              "      <td>GaussianNB</td>\n",
              "      <td>32.29%</td>\n",
              "    </tr>\n",
              "    <tr>\n",
              "      <th>5</th>\n",
              "      <td>AdaBoostClassifier</td>\n",
              "      <td>27.08%</td>\n",
              "    </tr>\n",
              "    <tr>\n",
              "      <th>7</th>\n",
              "      <td>QuadraticDiscriminantAnalysis</td>\n",
              "      <td>20.83%</td>\n",
              "    </tr>\n",
              "  </tbody>\n",
              "</table>\n",
              "</div>"
            ]
          },
          "metadata": {},
          "execution_count": 25
        }
      ],
      "source": [
        "from sklearn.neighbors import KNeighborsClassifier\n",
        "from sklearn.svm import SVC\n",
        "from sklearn.tree import DecisionTreeClassifier\n",
        "from sklearn.ensemble import RandomForestClassifier, AdaBoostClassifier\n",
        "from sklearn.naive_bayes import GaussianNB\n",
        "from sklearn.discriminant_analysis import QuadraticDiscriminantAnalysis\n",
        "\n",
        "classification_models = [\n",
        "    KNeighborsClassifier(),#(3),\n",
        "    SVC(kernel='linear'),#, C=0.025),\n",
        "    SVC(kernel='rbf'),\n",
        "    DecisionTreeClassifier(),#max_depth=5),\n",
        "    RandomForestClassifier(),#max_depth=5, n_estimators=10, max_features=1),\n",
        "    AdaBoostClassifier(),\n",
        "    GaussianNB(),\n",
        "    QuadraticDiscriminantAnalysis()]\n",
        "\n",
        "scores = []\n",
        "for model in classification_models:\n",
        "    model.fit(X_train_scaled, y_train)\n",
        "    score = model.score(X_test_scaled, y_test)\n",
        "    model_name = type(model).__name__\n",
        "    if model_name=='SVC' and model.kernel=='rbf': model_name+=' RBF kernel'\n",
        "    scores.append((model_name,(f'{100*score:.2f}%')))\n",
        "# Make it pretty\n",
        "scores_df = pd.DataFrame(scores,columns=['Classifier','Accuracy Score'])\n",
        "scores_df.sort_values(by='Accuracy Score',axis=0,ascending=False)"
      ]
    },
    {
      "cell_type": "markdown",
      "metadata": {
        "id": "JrD98CpPL9he"
      },
      "source": [
        "Let's pick the top three - Random Forests, SVC, and kNN - and take a closer look at each of them."
      ]
    },
    {
      "cell_type": "markdown",
      "metadata": {
        "id": "4dBNoEolL9hf"
      },
      "source": [
        "### The Support Vector Machine Classifier\n",
        "\n",
        "We'll go in chronological order. First is the support vector machine classifier (SVC) - a model from the 60s. SVMs are models quick to train for this task and best suited to small datasets due to its quadratic time complexity w.r.t. size of the training dataset (# of training samples). This is also the reason it breaks down with larger datasets since it becomes very expensive to train.\n",
        "\n",
        "The idea behind SVMs on which the SVC model is based is to find a separating hyperplane - a subspace with dimension one less than that of the feature space - for points in our feature space; i.e. for a 3D space, a hyperplane is a regular plane, in 2D, a line. This idea extends to n dimensions. If points are separable by a hyperplane, they are said to be linearly separable. **Since there are infinite possible separating hyperplanes for any linearly separable feature space, an SVM computes which points are closest to each such hyperplane and uses them to construct a _support vector_. The SVM picks the hyperplane which maximizes the distance - _margin_ - to each support vector.** In this way, we maximize the separating ability of the chosen hyperplane.\n",
        "\n",
        "The core of SVMs is the kernel. We could map all new points from our input space, where they were not separable by a hyperplane, to a higher dimension in which we have found a hyperplane to separate the points in that space. However, that would be extremely computationally expensive for data that needs to be mapped to much higher dimensions. Instead, we **compute the hyperplane in the higher dimension on our training data and map the hyperplane back to the lower-dimension input space to use for classifying our data. This is the _kernel trick_, whereby the kernel (function) enables us to compute distances to new points in the input space without transforming each to the higher dimensional space - drastically reducing the computational complexity of the SVM.**\n",
        "\n",
        " <img src=\"https://github.com/IAT-ExploringAI-2024/Week3-Machine_Learning/blob/main/images/kernel1.png?raw=true\" width=\"800\">"
      ]
    },
    {
      "cell_type": "markdown",
      "metadata": {
        "id": "r-VTE6HjL9hf"
      },
      "source": [
        "A linear kernel should always be tested because **a linear kernel is much faster to train than a non-linear kernel**; however, properly tuned, a non-linear kernel often provides the best possible predictive performance. **RBF (radial basis function) is a good default to use for a non-linear kernel** and often is the best non-linear kernel because it usually provides a higher accuracy compared to other non-linear kernels at the cost of higher computational complexity. We can afford to try the RBF kernel because our dataset is small.\n",
        "\n",
        "If you want to explore further please have a look at [this article](https://www.analyticsvidhya.com/blog/2021/10/support-vector-machinessvm-a-complete-guide-for-beginners/)"
      ]
    },
    {
      "cell_type": "code",
      "execution_count": 31,
      "metadata": {
        "id": "ruBbt50ML9hf",
        "outputId": "594a5696-4caa-4ce8-a830-cdbfcd6fc5a8",
        "colab": {
          "base_uri": "https://localhost:8080/"
        }
      },
      "outputs": [
        {
          "output_type": "stream",
          "name": "stdout",
          "text": [
            "SVC Model's accuracy on training set is 99.74%\n",
            "SVC Model's accuracy on test set is 60.07%\n"
          ]
        }
      ],
      "source": [
        "from sklearn.svm import SVC\n",
        "\n",
        "model = SVC(\n",
        "    C=10,  #higher the value tighter the margin\n",
        "    gamma='auto',\n",
        "    kernel='rbf',\n",
        "    random_state=42\n",
        ")\n",
        "\n",
        "model.fit(X_train, y_train)\n",
        "\n",
        "print(f'SVC Model\\'s accuracy on training set is {100*model.score(X_train, y_train):.2f}%')\n",
        "print(f'SVC Model\\'s accuracy on test set is {100*model.score(X_test, y_test):.2f}%')"
      ]
    },
    {
      "cell_type": "markdown",
      "metadata": {
        "id": "PIm1a-tiL9hg"
      },
      "source": [
        "Not bad at all for the relatively simple SVC model. **Hyperparameter 𝐶 regulates the margin.** It might do well to optimize the SVC model further if we don't find a better one. As it stands, we are looking for considerably higher performance in this task.\n",
        "\n",
        "Check out [this link](https://towardsdatascience.com/visualizing-the-effect-of-hyperparameters-on-support-vector-machines-b9eef6f7357b) for visual representation of affect of changes in C and gamma."
      ]
    },
    {
      "cell_type": "markdown",
      "metadata": {
        "id": "j72LJRfCL9hg"
      },
      "source": [
        "### k Nearest Neighbours\n",
        "\n",
        "k Nearest Neighbours (kNN) is next in line, a tried-and-true machine learning method from the 70s. kNN makes a lot of intuitive sense: imagine plotting points on a graph and drawing gates around points that look like they belong to the same group. That's what it is - we **plot our training samples' features and compare a test sample's features' distance to all those points; then just take the _k_ closest points to the test sample and pick the most frequent label/class.** That's it.\n",
        "\n",
        "kNN is a great starting point for multiclass problems with small datasets, although on large dadtasets less reliable and extremely memory hungry (it stores all training sample points). kNN is also useful in that it makes **no assumptions about the underlying distribution of the data set - so kNNs work well for both linear and non-linear data.** In the 2D example:\n",
        "\n",
        "<img src=\"https://github.com/IAT-ExploringAI-2024/Week3-ClassicML/blob/main/images/knn.png?raw=true\" width=400 height=400 />"
      ]
    },
    {
      "cell_type": "code",
      "execution_count": 38,
      "metadata": {
        "id": "qaeCneMiL9hg",
        "outputId": "1b7a89cb-e062-4e71-f169-295fa863184a",
        "colab": {
          "base_uri": "https://localhost:8080/"
        }
      },
      "outputs": [
        {
          "output_type": "stream",
          "name": "stdout",
          "text": [
            "Default kNN Model's accuracy on training set is 65.10%\n",
            "Default kNN Model's accuracy on test set is 47.92%\n",
            "\n",
            "kNN Model's accuracy on training set is 99.74%\n",
            "kNN Model's accuracy on test set is 54.51%\n"
          ]
        }
      ],
      "source": [
        "from sklearn.neighbors import KNeighborsClassifier\n",
        "\n",
        "####### Default kNN  ########\n",
        "model = KNeighborsClassifier(\n",
        ")\n",
        "\n",
        "model.fit(X_train, y_train)\n",
        "\n",
        "print(f'Default kNN Model\\'s accuracy on training set is {100*model.score(X_train, y_train):.2f}%')\n",
        "print(f'Default kNN Model\\'s accuracy on test set is {100*model.score(X_test, y_test):.2f}%\\n')\n",
        "\n",
        "##### (hastily) tuned kNN ######\n",
        "model = KNeighborsClassifier(\n",
        "    n_neighbors = 5,\n",
        "    weights = 'distance',\n",
        "    algorithm = 'brute',\n",
        "    n_jobs=4\n",
        ")\n",
        "\n",
        "model.fit(X_train, y_train)\n",
        "\n",
        "print(f'kNN Model\\'s accuracy on training set is {100*model.score(X_train, y_train):.2f}%')\n",
        "print(f'kNN Model\\'s accuracy on test set is {100*model.score(X_test, y_test):.2f}%')"
      ]
    },
    {
      "cell_type": "markdown",
      "metadata": {
        "id": "BxVEKUyiL9hh"
      },
      "source": [
        "**The brute-force algorithm computes distances between all pairs of points in the training set; works especially well for small datasets** but wildly inefficient w.r.t. increasing samples and feature space dimension. Not bad for 2 minutes of work, but still not suitable for this task."
      ]
    },
    {
      "cell_type": "markdown",
      "metadata": {
        "id": "zvQ3av4cL9hh"
      },
      "source": [
        "### Random Forests\n",
        "Finally, and before resorting to deep learning methods, let's try a Random Forest -  a model from the 21st century (2001). **We train many distinct decision trees which are essentially directed acyclic graphs (DAGs), somewhat similar to a flow chart. The collection of (decision) trees makes up our Random Forest.**\n",
        "\n",
        "At each node of the tree we have a function (a rule) that evaluates whether the features of samples input to that node belong to one class or another. Each branch of the tree (or, edge of the graph) defines one of two possible results from a node, and each leaf is one of two decisions made by its parent node. **Each tree in the forest evaluates a random subset of the training samples' features and has a rule at each level of the tree that classifies based on these random features - hence, _Random_ Forest. This random selection of features makes Random Forests robust to outliers**, as such features will have less of an impact in the scope of the entire forest, most of whose trees operate on the \"real\" features.\n",
        "\n",
        "**Random Forests are excellent models to use as a benchmark due to their low time complexity to train and because it is an ensemble method, their robustness to unknown distributions and outliers in the dataset,** meaning Random Forests require relatively little exploratory analysis in both the data and training the model to get an idea of their performance in a task.\n",
        "\n",
        "<img src=\"https://github.com/IliaZenkov/sklearn-audio-classification/blob/master/img/randomforest.png?raw=true\" width=500 height=500 />"
      ]
    },
    {
      "cell_type": "code",
      "execution_count": 41,
      "metadata": {
        "id": "j9BWmcV9L9hh",
        "outputId": "c343f896-9d48-4821-d871-2d98f2df27b2",
        "colab": {
          "base_uri": "https://localhost:8080/"
        }
      },
      "outputs": [
        {
          "output_type": "stream",
          "name": "stdout",
          "text": [
            "Default Random Forest Model's accuracy on training set is 99.74%\n",
            "Default Random Forest Model's accuracy on test set is 63.89%\n",
            "\n",
            "Random Forest Model's accuracy on training set is 99.74%\n",
            "Random Forest Model's accuracy on test set is 63.89%\n"
          ]
        }
      ],
      "source": [
        "from sklearn.ensemble import RandomForestClassifier\n",
        "\n",
        "####### Default Random Forest ########\n",
        "model = RandomForestClassifier(\n",
        "    random_state=69\n",
        ")\n",
        "\n",
        "model.fit(X_train, y_train)\n",
        "\n",
        "print(f'Default Random Forest Model\\'s accuracy on training set is {100*model.score(X_train, y_train):.2f}%')\n",
        "print(f'Default Random Forest Model\\'s accuracy on test set is {100*model.score(X_test, y_test):.2f}%\\n')\n",
        "\n",
        "\n",
        "########## Tuned Random Forest #######\n",
        "model = RandomForestClassifier(\n",
        "    n_estimators = 500,\n",
        "    criterion ='entropy',\n",
        "    warm_start = True,\n",
        "    max_features = 'sqrt',\n",
        "    oob_score = True, # more on this below\n",
        "    random_state=42\n",
        ")\n",
        "\n",
        "model.fit(X_train, y_train)\n",
        "\n",
        "print(f'Random Forest Model\\'s accuracy on training set is {100*model.score(X_train, y_train):.2f}%')\n",
        "print(f'Random Forest Model\\'s accuracy on test set is {100*model.score(X_test, y_test):.2f}%')"
      ]
    },
    {
      "cell_type": "markdown",
      "metadata": {
        "id": "vM9-k8KLL9hi"
      },
      "source": [
        "Not bad for zero effort put into the default model. **Random Forests make a good benchmark model**, especially when strapped for time.\n",
        "\n",
        "**_Max features_ defines size of random feature subset decided upon at each node; sqrt(#features) is a good default for classification.**\n",
        "\n",
        "**_Gini_ and _Entropy_ are functions computing quality of classified samples within each node; they almost always provide similar performance but Entropy is more suited to classification while Gini is better for continuous variables.**\n"
      ]
    },
    {
      "cell_type": "markdown",
      "metadata": {
        "id": "DnhnxuGXL9hi"
      },
      "source": [
        "\n",
        "As wonderful as Random Forests are, it's clear that we're going to need to pull out bigger guns if we want to get appreciable performance on this dataset, perhaps even with good generalizability on test data. DNNs(Deep Neural Networks) are the next step-up in complexity from classical machine learning models, and we will start at the first rung on that ladder:Simple Perceptron in next lab!"
      ]
    }
  ],
  "metadata": {
    "kernelspec": {
      "display_name": "PyCharm (Speech Classifier)",
      "language": "python",
      "name": "pycharm-6a34225"
    },
    "language_info": {
      "codemirror_mode": {
        "name": "ipython",
        "version": 3
      },
      "file_extension": ".py",
      "mimetype": "text/x-python",
      "name": "python",
      "nbconvert_exporter": "python",
      "pygments_lexer": "ipython3",
      "version": "3.8.3"
    },
    "colab": {
      "provenance": [],
      "include_colab_link": true
    }
  },
  "nbformat": 4,
  "nbformat_minor": 0
}